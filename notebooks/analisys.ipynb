{
 "cells": [
  {
   "cell_type": "markdown",
   "id": "6a4ff262-d133-4f02-862a-a65a59362bf0",
   "metadata": {},
   "source": [
    "# <font color='blue'>Problema de Análise: Produtos dos agronegócio</font>"
   ]
  },
  {
   "cell_type": "markdown",
   "id": "ab1e798f-0e3d-4ec2-9426-f919b701cb73",
   "metadata": {},
   "source": [
    "# 1 - Definindo o problema de negócio"
   ]
  },
  {
   "cell_type": "code",
   "execution_count": 554,
   "id": "6b79fada-fe1a-4236-89d5-ad772b9f90f1",
   "metadata": {},
   "outputs": [],
   "source": [
    "# Análise de Preços e Margens de Lucro\n",
    "#Problema: Entender a rentabilidade dos diferentes tipos de abacate (comum, médio e hawai)."
   ]
  },
  {
   "cell_type": "markdown",
   "id": "d8b5ecf0-ef29-46bf-a950-ecc8e85f0351",
   "metadata": {},
   "source": [
    "# 2 - Decisões"
   ]
  },
  {
   "cell_type": "code",
   "execution_count": null,
   "id": "1feb2d88-f2c1-4d90-a84f-15bd70230f21",
   "metadata": {},
   "outputs": [],
   "source": [
    "# Como não temos todos os dados para nossa análise, vamos adotar padrão de venda constante e o custo real de produção de cada tipo de abacate.\n",
    "# Solução do problema: Analisar os preços e pesos para calcular a margem de lucro de cada tipo e ajustar a estratégia de precificação."
   ]
  },
  {
   "cell_type": "markdown",
   "id": "10463cd2-1e86-4bd3-b3e2-b691006a0dda",
   "metadata": {},
   "source": [
    "# 3 - Versão python e import dos pacotes utilizados"
   ]
  },
  {
   "cell_type": "code",
   "execution_count": 556,
   "id": "2ec4b272-9c84-4a12-9196-74f5568a2640",
   "metadata": {},
   "outputs": [
    {
     "name": "stdout",
     "output_type": "stream",
     "text": [
      "Versão da Linguagem Python Usada Neste Jupyter Notebook: 3.12.4\n"
     ]
    }
   ],
   "source": [
    "# Versão da Linguagem Python\n",
    "from platform import python_version\n",
    "print('Versão da Linguagem Python Usada Neste Jupyter Notebook:', python_version())"
   ]
  },
  {
   "cell_type": "code",
   "execution_count": 557,
   "id": "e424d3fd-9a90-412d-9b2a-2c07011c14b1",
   "metadata": {},
   "outputs": [],
   "source": [
    "# Para atualizar um pacote, execute o comando abaixo no terminal ou prompt de comando:\n",
    "# pip install -U nome_pacote\n",
    "\n",
    "# Para instalar a versão exata de um pacote, execute o comando abaixo no terminal ou prompt de comando:\n",
    "#!pip install nome_pacote==versão_desejada\n",
    "\n",
    "# Depois de instalar ou atualizar o pacote, reinicie o jupyter notebook.\n",
    "\n",
    "# Instala o pacote watermark. \n",
    "# Esse pacote é usado para gravar as versões de outros pacotes usados neste jupyter notebook.\n",
    "#!pip install -q -U watermark"
   ]
  },
  {
   "cell_type": "code",
   "execution_count": 558,
   "id": "a1414b72-6493-4f21-a8a9-f8a933aebc33",
   "metadata": {},
   "outputs": [],
   "source": [
    "# Imports\n",
    "import os\n",
    "import sys\n",
    "import sqlite3\n",
    "import numpy as np\n",
    "import pandas as pd\n",
    "import matplotlib.pyplot as plt\n",
    "import seaborn as sns\n",
    "%matplotlib inline \n",
    "import warnings\n",
    "warnings.filterwarnings(\"ignore\", category=FutureWarning)"
   ]
  },
  {
   "cell_type": "code",
   "execution_count": 559,
   "id": "7cb00163-b3ea-4cbc-9aff-1c7e27de23e9",
   "metadata": {},
   "outputs": [
    {
     "name": "stdout",
     "output_type": "stream",
     "text": [
      "Author: Danilo Temerloglou de Abreu\n",
      "\n",
      "numpy     : 1.26.4\n",
      "pandas    : 2.2.2\n",
      "sqlite3   : 2.6.0\n",
      "matplotlib: 3.8.4\n",
      "seaborn   : 0.13.2\n",
      "sys       : 3.12.4 | packaged by Anaconda, Inc. | (main, Jun 18 2024, 15:03:56) [MSC v.1929 64 bit (AMD64)]\n",
      "\n"
     ]
    }
   ],
   "source": [
    "# Versões dos pacotes usados neste jupyter notebook\n",
    "%reload_ext watermark\n",
    "%watermark -a \"Danilo Temerloglou de Abreu\" --iversions"
   ]
  },
  {
   "cell_type": "markdown",
   "id": "00f4d266-2cd6-4df5-9e26-d1e036e8dcb2",
   "metadata": {},
   "source": [
    "# 4 - Dicionário de dados"
   ]
  },
  {
   "cell_type": "code",
   "execution_count": 560,
   "id": "9a7cbb7b-8927-4b87-ab8b-d7182161312a",
   "metadata": {},
   "outputs": [],
   "source": [
    "#data - data\n",
    "#produto - produto\n",
    "#municipio - municipio\n",
    "#tipo - tipo\n",
    "#peso - peso (Kg)\n",
    "#preco - preço (R$)"
   ]
  },
  {
   "cell_type": "markdown",
   "id": "2bff9314-0186-4362-85a6-a3c073661964",
   "metadata": {},
   "source": [
    "# 5 - Carregando o Conjunto de dados"
   ]
  },
  {
   "cell_type": "markdown",
   "id": "8fe4a49a-3f3b-4c44-a98c-04f73b4d363e",
   "metadata": {},
   "source": [
    "## 5.1 - Carregando o Conjunto de dados a partir do arquivo csv"
   ]
  },
  {
   "cell_type": "markdown",
   "id": "0a25e603-19dd-4576-8ad4-499d24ed8eab",
   "metadata": {},
   "source": [
    "#### Obter dataframe a partir do arquivo gerado pelo 'scraper.py' que fica na pasta 'src'"
   ]
  },
  {
   "cell_type": "code",
   "execution_count": 561,
   "id": "1f2d0334-bc87-47da-ba64-e3d5c3095a49",
   "metadata": {},
   "outputs": [],
   "source": [
    "# ajustar conforme sua pasta de trabalho local/remota\n",
    "\n",
    "#data_path = r'C:\\Users\\Danilo\\PROJETOS\\PROJETO12_TESTE_WEBSCRAPPING_AGRO\\data\\raw\\dados_agro.csv'\n",
    "\n",
    "# Adiciona o caminho ao sys.path\n",
    "#sys.path.append(data_path)\n",
    "\n",
    "# Carregar os dados do arquivo csv\n",
    "#df = pd.read_csv(data_path)\n",
    "#print(df.head())"
   ]
  },
  {
   "cell_type": "markdown",
   "id": "bbafd4fa-bbb8-4c75-af30-d37506b4641c",
   "metadata": {},
   "source": [
    "## 5.2 - Carregando o Conjunto de dados a partir de tabela do banco de dados SQLite"
   ]
  },
  {
   "cell_type": "markdown",
   "id": "76f130b7-1e0c-442f-ad2d-3191ad85687e",
   "metadata": {},
   "source": [
    "### CRIAR DATAFRAME A PARTIR DA LEITURA DO BANCO DE DADOS CRIADO E GERADO PELO ARQUIVO scraper.py DA PASTA src"
   ]
  },
  {
   "cell_type": "markdown",
   "id": "ef9de275-6797-4836-9f01-fb10c3a9e09c",
   "metadata": {},
   "source": [
    "#### Vamos primeiro descobrir o(s) nome(s) da(s) tabela(s) dentro do banco de dados e em seguida cirar o dataframe"
   ]
  },
  {
   "cell_type": "code",
   "execution_count": 562,
   "id": "5f4164cc-ed9a-43ee-b7fd-9d7e6e18e1e7",
   "metadata": {},
   "outputs": [
    {
     "name": "stdout",
     "output_type": "stream",
     "text": [
      "Tabelas no banco de dados:\n",
      "database_agro\n"
     ]
    }
   ],
   "source": [
    "# Caminho para o banco de dados\n",
    "db_path = r'C:\\Users\\Danilo\\PROJETOS\\PROJETO12_TESTE_WEBSCRAPPING_AGRO\\data\\raw\\database_agro.db'\n",
    "\n",
    "# Conectar ao banco de dados\n",
    "conn = sqlite3.connect(db_path)\n",
    "\n",
    "# Criar um cursor\n",
    "cursor = conn.cursor()\n",
    "\n",
    "# Verificar os nomes das tabelas\n",
    "cursor.execute(\"SELECT name FROM sqlite_master WHERE type='table';\")\n",
    "tables = cursor.fetchall()\n",
    "print(\"Tabelas no banco de dados:\")\n",
    "for table in tables:\n",
    "    print(table[0])\n",
    "\n",
    "# Fechar a conexão\n",
    "conn.close()"
   ]
  },
  {
   "cell_type": "code",
   "execution_count": 563,
   "id": "e2c1adb2-3297-4b85-8efb-061beaffdae6",
   "metadata": {},
   "outputs": [
    {
     "name": "stdout",
     "output_type": "stream",
     "text": [
      "         data  produto municipio     tipo      peso      preco\n",
      "0  05/01/2015  Abacate  SALVADOR  (comum)  cx 30 kg  R$ 108,00\n",
      "1  06/01/2015  Abacate  SALVADOR  (comum)  cx 30 kg  R$ 108,00\n",
      "2  07/01/2015  Abacate  SALVADOR  (comum)  cx 30 kg  R$ 108,00\n",
      "3  08/01/2015  Abacate  SALVADOR  (comum)  cx 30 kg  R$ 108,00\n",
      "4  09/01/2015  Abacate  SALVADOR  (comum)  cx 30 kg  R$ 108,00\n"
     ]
    }
   ],
   "source": [
    "# Abrindo arquivo a partir do arquivo do banco de dados gerado no arquivo scraper.py da pasta src, a tabela database_agro\n",
    "\n",
    "db_path = r'C:\\Users\\Danilo\\PROJETOS\\PROJETO12_TESTE_WEBSCRAPPING_AGRO\\data\\raw\\database_agro.db'\n",
    "\n",
    "# Conectar ao banco de dados\n",
    "conn = sqlite3.connect(db_path)\n",
    "\n",
    "# Criar um cursor\n",
    "cursor = conn.cursor()\n",
    "\n",
    "# Carregar os dados do arquivo do banco de dados num dataframe\n",
    "# Consultar os dados e carregá-los em um DataFrame\n",
    "df = pd.read_sql_query(\"SELECT * FROM database_agro\", conn)\n",
    "\n",
    "# Exibir o DataFrame\n",
    "print(df.head())"
   ]
  },
  {
   "cell_type": "markdown",
   "id": "8f0595dd-f33f-4ac9-935b-a564c7683d92",
   "metadata": {},
   "source": [
    "# 6 - EDA Análise Exploratória de Dados"
   ]
  },
  {
   "cell_type": "code",
   "execution_count": 564,
   "id": "e204d3b5-f084-4a20-924b-01ccf0a14e3a",
   "metadata": {},
   "outputs": [
    {
     "data": {
      "text/plain": [
       "(2445, 6)"
      ]
     },
     "execution_count": 564,
     "metadata": {},
     "output_type": "execute_result"
    }
   ],
   "source": [
    "# Shape\n",
    "df.shape"
   ]
  },
  {
   "cell_type": "code",
   "execution_count": 565,
   "id": "45e71866-7980-4c6b-ae19-6e3bd4f4841b",
   "metadata": {},
   "outputs": [
    {
     "data": {
      "text/plain": [
       "Index(['data', 'produto', 'municipio', 'tipo', 'peso', 'preco'], dtype='object')"
      ]
     },
     "execution_count": 565,
     "metadata": {},
     "output_type": "execute_result"
    }
   ],
   "source": [
    "#nomes das colunas\n",
    "df.columns"
   ]
  },
  {
   "cell_type": "code",
   "execution_count": 566,
   "id": "02619b79-1705-492d-9ffa-44226307b261",
   "metadata": {},
   "outputs": [
    {
     "name": "stdout",
     "output_type": "stream",
     "text": [
      "<class 'pandas.core.frame.DataFrame'>\n",
      "RangeIndex: 2445 entries, 0 to 2444\n",
      "Data columns (total 6 columns):\n",
      " #   Column     Non-Null Count  Dtype \n",
      "---  ------     --------------  ----- \n",
      " 0   data       2445 non-null   object\n",
      " 1   produto    2445 non-null   object\n",
      " 2   municipio  2445 non-null   object\n",
      " 3   tipo       2445 non-null   object\n",
      " 4   peso       2445 non-null   object\n",
      " 5   preco      2445 non-null   object\n",
      "dtypes: object(6)\n",
      "memory usage: 114.7+ KB\n"
     ]
    }
   ],
   "source": [
    "# Info\n",
    "df.info()"
   ]
  },
  {
   "cell_type": "markdown",
   "id": "24fddab2-42bd-49b0-b5e0-bef194d482bd",
   "metadata": {},
   "source": [
    "## 6.1 - Ajuste do dataframe - tipos de variáveis, ajustes "
   ]
  },
  {
   "cell_type": "code",
   "execution_count": 567,
   "id": "b0396ca4-1c04-4d3c-a1e9-daaea655e7b3",
   "metadata": {},
   "outputs": [],
   "source": [
    "# Converte a coluna 'data_coluna' para datetime\n",
    "df['data'] = pd.to_datetime(df['data'], format='%d/%m/%Y')"
   ]
  },
  {
   "cell_type": "code",
   "execution_count": 568,
   "id": "749cf297-923f-49e7-be68-2a8d78db976c",
   "metadata": {},
   "outputs": [
    {
     "data": {
      "text/plain": [
       "data         datetime64[ns]\n",
       "produto              object\n",
       "municipio            object\n",
       "tipo                 object\n",
       "peso                 object\n",
       "preco                object\n",
       "dtype: object"
      ]
     },
     "execution_count": 568,
     "metadata": {},
     "output_type": "execute_result"
    }
   ],
   "source": [
    "df.dtypes"
   ]
  },
  {
   "cell_type": "code",
   "execution_count": 570,
   "id": "b6c2ac1e-bc0f-40f3-b037-4eecb9cce5d6",
   "metadata": {},
   "outputs": [
    {
     "data": {
      "text/plain": [
       "array(['(comum)', 'Médio', 'Hawai'], dtype=object)"
      ]
     },
     "execution_count": 570,
     "metadata": {},
     "output_type": "execute_result"
    }
   ],
   "source": [
    "# Verificando os valores únicos da coluna tipo\n",
    "df['tipo'].unique()"
   ]
  },
  {
   "cell_type": "code",
   "execution_count": 571,
   "id": "d0b464ab-1037-426c-98f1-af044d357ed6",
   "metadata": {},
   "outputs": [],
   "source": [
    "# Padronizando a nomenclatura na coluna tipo\n",
    "df.loc[df['tipo'] == '(comum)', 'tipo'] = 'comum'\n",
    "df.loc[df['tipo'] == 'Médio', 'tipo'] = 'medio'\n",
    "df.loc[df['tipo'] == 'Hawai', 'tipo'] = 'hawai'"
   ]
  },
  {
   "cell_type": "code",
   "execution_count": 572,
   "id": "c9c13290-d4f0-48d6-831b-54054e6f017b",
   "metadata": {},
   "outputs": [
    {
     "data": {
      "text/plain": [
       "array(['comum', 'medio', 'hawai'], dtype=object)"
      ]
     },
     "execution_count": 572,
     "metadata": {},
     "output_type": "execute_result"
    }
   ],
   "source": [
    "df['tipo'].unique()"
   ]
  },
  {
   "cell_type": "code",
   "execution_count": 573,
   "id": "1eb2c29d-adc3-4771-806f-19e54445d0b4",
   "metadata": {},
   "outputs": [],
   "source": [
    "# Ajustando a coluna 'peso' \n",
    "# Convertendo a coluna para string \n",
    "df['peso'] = df['peso'].astype(str)\n",
    "# Usando expressões regulares para extrair o número\n",
    "df['peso'] = pd.to_numeric(df['peso'].str.extract(r'(\\d+)')[0], errors='coerce')"
   ]
  },
  {
   "cell_type": "code",
   "execution_count": 574,
   "id": "1d2824cd-0d51-4b3f-8970-377fb8c84a21",
   "metadata": {},
   "outputs": [
    {
     "data": {
      "text/html": [
       "<div>\n",
       "<style scoped>\n",
       "    .dataframe tbody tr th:only-of-type {\n",
       "        vertical-align: middle;\n",
       "    }\n",
       "\n",
       "    .dataframe tbody tr th {\n",
       "        vertical-align: top;\n",
       "    }\n",
       "\n",
       "    .dataframe thead th {\n",
       "        text-align: right;\n",
       "    }\n",
       "</style>\n",
       "<table border=\"1\" class=\"dataframe\">\n",
       "  <thead>\n",
       "    <tr style=\"text-align: right;\">\n",
       "      <th></th>\n",
       "      <th>data</th>\n",
       "      <th>produto</th>\n",
       "      <th>municipio</th>\n",
       "      <th>tipo</th>\n",
       "      <th>peso</th>\n",
       "      <th>preco</th>\n",
       "    </tr>\n",
       "  </thead>\n",
       "  <tbody>\n",
       "    <tr>\n",
       "      <th>0</th>\n",
       "      <td>2015-01-05</td>\n",
       "      <td>Abacate</td>\n",
       "      <td>SALVADOR</td>\n",
       "      <td>comum</td>\n",
       "      <td>30.0</td>\n",
       "      <td>R$ 108,00</td>\n",
       "    </tr>\n",
       "    <tr>\n",
       "      <th>1</th>\n",
       "      <td>2015-01-06</td>\n",
       "      <td>Abacate</td>\n",
       "      <td>SALVADOR</td>\n",
       "      <td>comum</td>\n",
       "      <td>30.0</td>\n",
       "      <td>R$ 108,00</td>\n",
       "    </tr>\n",
       "    <tr>\n",
       "      <th>2</th>\n",
       "      <td>2015-01-07</td>\n",
       "      <td>Abacate</td>\n",
       "      <td>SALVADOR</td>\n",
       "      <td>comum</td>\n",
       "      <td>30.0</td>\n",
       "      <td>R$ 108,00</td>\n",
       "    </tr>\n",
       "    <tr>\n",
       "      <th>3</th>\n",
       "      <td>2015-01-08</td>\n",
       "      <td>Abacate</td>\n",
       "      <td>SALVADOR</td>\n",
       "      <td>comum</td>\n",
       "      <td>30.0</td>\n",
       "      <td>R$ 108,00</td>\n",
       "    </tr>\n",
       "    <tr>\n",
       "      <th>4</th>\n",
       "      <td>2015-01-09</td>\n",
       "      <td>Abacate</td>\n",
       "      <td>SALVADOR</td>\n",
       "      <td>comum</td>\n",
       "      <td>30.0</td>\n",
       "      <td>R$ 108,00</td>\n",
       "    </tr>\n",
       "  </tbody>\n",
       "</table>\n",
       "</div>"
      ],
      "text/plain": [
       "        data  produto municipio   tipo  peso      preco\n",
       "0 2015-01-05  Abacate  SALVADOR  comum  30.0  R$ 108,00\n",
       "1 2015-01-06  Abacate  SALVADOR  comum  30.0  R$ 108,00\n",
       "2 2015-01-07  Abacate  SALVADOR  comum  30.0  R$ 108,00\n",
       "3 2015-01-08  Abacate  SALVADOR  comum  30.0  R$ 108,00\n",
       "4 2015-01-09  Abacate  SALVADOR  comum  30.0  R$ 108,00"
      ]
     },
     "execution_count": 574,
     "metadata": {},
     "output_type": "execute_result"
    }
   ],
   "source": [
    "df.head()"
   ]
  },
  {
   "cell_type": "code",
   "execution_count": 575,
   "id": "19718df1-870c-4d09-88c6-d9b07a934037",
   "metadata": {},
   "outputs": [],
   "source": [
    "# Ajustando a coluna 'preco' \n",
    "# Convertendo a coluna para string \n",
    "df['preco'] = df['preco'].astype(str)\n",
    "# Usando expressões regulares para extrair o número\n",
    "df['preco'] = pd.to_numeric(df['preco'].str.extract(r'(\\d+)')[0], errors='coerce')"
   ]
  },
  {
   "cell_type": "code",
   "execution_count": 576,
   "id": "1a997a3e-66fb-457e-85e2-c44d30d81ec9",
   "metadata": {},
   "outputs": [
    {
     "data": {
      "text/html": [
       "<div>\n",
       "<style scoped>\n",
       "    .dataframe tbody tr th:only-of-type {\n",
       "        vertical-align: middle;\n",
       "    }\n",
       "\n",
       "    .dataframe tbody tr th {\n",
       "        vertical-align: top;\n",
       "    }\n",
       "\n",
       "    .dataframe thead th {\n",
       "        text-align: right;\n",
       "    }\n",
       "</style>\n",
       "<table border=\"1\" class=\"dataframe\">\n",
       "  <thead>\n",
       "    <tr style=\"text-align: right;\">\n",
       "      <th></th>\n",
       "      <th>data</th>\n",
       "      <th>produto</th>\n",
       "      <th>municipio</th>\n",
       "      <th>tipo</th>\n",
       "      <th>peso</th>\n",
       "      <th>preco</th>\n",
       "    </tr>\n",
       "  </thead>\n",
       "  <tbody>\n",
       "    <tr>\n",
       "      <th>0</th>\n",
       "      <td>2015-01-05</td>\n",
       "      <td>Abacate</td>\n",
       "      <td>SALVADOR</td>\n",
       "      <td>comum</td>\n",
       "      <td>30.0</td>\n",
       "      <td>108.0</td>\n",
       "    </tr>\n",
       "    <tr>\n",
       "      <th>1</th>\n",
       "      <td>2015-01-06</td>\n",
       "      <td>Abacate</td>\n",
       "      <td>SALVADOR</td>\n",
       "      <td>comum</td>\n",
       "      <td>30.0</td>\n",
       "      <td>108.0</td>\n",
       "    </tr>\n",
       "    <tr>\n",
       "      <th>2</th>\n",
       "      <td>2015-01-07</td>\n",
       "      <td>Abacate</td>\n",
       "      <td>SALVADOR</td>\n",
       "      <td>comum</td>\n",
       "      <td>30.0</td>\n",
       "      <td>108.0</td>\n",
       "    </tr>\n",
       "    <tr>\n",
       "      <th>3</th>\n",
       "      <td>2015-01-08</td>\n",
       "      <td>Abacate</td>\n",
       "      <td>SALVADOR</td>\n",
       "      <td>comum</td>\n",
       "      <td>30.0</td>\n",
       "      <td>108.0</td>\n",
       "    </tr>\n",
       "    <tr>\n",
       "      <th>4</th>\n",
       "      <td>2015-01-09</td>\n",
       "      <td>Abacate</td>\n",
       "      <td>SALVADOR</td>\n",
       "      <td>comum</td>\n",
       "      <td>30.0</td>\n",
       "      <td>108.0</td>\n",
       "    </tr>\n",
       "  </tbody>\n",
       "</table>\n",
       "</div>"
      ],
      "text/plain": [
       "        data  produto municipio   tipo  peso  preco\n",
       "0 2015-01-05  Abacate  SALVADOR  comum  30.0  108.0\n",
       "1 2015-01-06  Abacate  SALVADOR  comum  30.0  108.0\n",
       "2 2015-01-07  Abacate  SALVADOR  comum  30.0  108.0\n",
       "3 2015-01-08  Abacate  SALVADOR  comum  30.0  108.0\n",
       "4 2015-01-09  Abacate  SALVADOR  comum  30.0  108.0"
      ]
     },
     "execution_count": 576,
     "metadata": {},
     "output_type": "execute_result"
    }
   ],
   "source": [
    "df.head()"
   ]
  },
  {
   "cell_type": "code",
   "execution_count": 577,
   "id": "f1917e37-3f7e-45df-b2c0-2d4d124979fa",
   "metadata": {},
   "outputs": [
    {
     "data": {
      "text/plain": [
       "array(['Abacate'], dtype=object)"
      ]
     },
     "execution_count": 577,
     "metadata": {},
     "output_type": "execute_result"
    }
   ],
   "source": [
    "# Verificando os valores únicos da coluna produto\n",
    "df['produto'].unique()"
   ]
  },
  {
   "cell_type": "code",
   "execution_count": 578,
   "id": "b11cbf1d-66b5-4a72-adc5-6e61b0b4f936",
   "metadata": {},
   "outputs": [
    {
     "data": {
      "text/plain": [
       "array(['SALVADOR'], dtype=object)"
      ]
     },
     "execution_count": 578,
     "metadata": {},
     "output_type": "execute_result"
    }
   ],
   "source": [
    "# Verificando os valores únicos da coluna municipio\n",
    "df['municipio'].unique()"
   ]
  },
  {
   "cell_type": "code",
   "execution_count": 579,
   "id": "0a38882c-7ce6-468b-8bf2-d9254f375d29",
   "metadata": {},
   "outputs": [
    {
     "data": {
      "text/plain": [
       "array([30., 25., nan, 20.,  7.])"
      ]
     },
     "execution_count": 579,
     "metadata": {},
     "output_type": "execute_result"
    }
   ],
   "source": [
    "# Verificando os valores únicos da coluna peso\n",
    "df['peso'].unique()"
   ]
  },
  {
   "cell_type": "code",
   "execution_count": 580,
   "id": "e06aa834-fa07-4edf-b631-7be943ea1ffe",
   "metadata": {},
   "outputs": [
    {
     "data": {
      "text/plain": [
       "array([108.,  45., 135., 111.,  50.,  47.,  70., 141.,  62.,  60., 138.,\n",
       "       142., 105., 145., 150., 165., 172.,  40., 180., 202., 300.,  nan,\n",
       "        90.,  99.,  82., 520.,  52.,  97., 132., 124., 133., 147., 120.,\n",
       "        25.,  93., 100., 102.,   1., 154., 247., 112., 114., 155.,  75.,\n",
       "       127., 250., 225., 255., 270., 285., 210., 122., 130., 195., 170.,\n",
       "       110., 187., 240.,  80.,  36.])"
      ]
     },
     "execution_count": 580,
     "metadata": {},
     "output_type": "execute_result"
    }
   ],
   "source": [
    "# Verificando os valores únicos da coluna preco\n",
    "df['preco'].unique()"
   ]
  },
  {
   "cell_type": "code",
   "execution_count": 648,
   "id": "9588687c-4482-4e87-a31c-8810a771bc97",
   "metadata": {},
   "outputs": [
    {
     "data": {
      "text/plain": [
       "data               datetime64[ns]\n",
       "tipo                       object\n",
       "peso                      float64\n",
       "preco                     float64\n",
       "quant_vendas                int64\n",
       "receita                   float64\n",
       "preco_por_peso            float64\n",
       "custo_produto             float64\n",
       "custo                     float64\n",
       "margem_de_lucro           float64\n",
       "dtype: object"
      ]
     },
     "execution_count": 648,
     "metadata": {},
     "output_type": "execute_result"
    }
   ],
   "source": [
    "# Verificando os tipos de dados\n",
    "df.dtypes"
   ]
  },
  {
   "cell_type": "markdown",
   "id": "8301a2d3-aa3f-4ea8-8f65-53cd71446011",
   "metadata": {},
   "source": [
    "## 6.2 - Salvando os dados processados de forma intermediária"
   ]
  },
  {
   "cell_type": "code",
   "execution_count": 583,
   "id": "f482a030-5b45-4b60-86af-ac9f3d599566",
   "metadata": {},
   "outputs": [
    {
     "name": "stdout",
     "output_type": "stream",
     "text": [
      "Dados salvos em C:\\Users\\Danilo\\PROJETOS\\PROJETO12_TESTE_WEBSCRAPPING_AGRO\\data\\processed\\dados_agro_processed.csv!\n"
     ]
    }
   ],
   "source": [
    "# salvando dados minimamente processados em formato csv\n",
    "df_processed=df\n",
    "\n",
    "# Defina o caminho do arquivo CSV\n",
    "caminho_arquivo = r'C:\\Users\\Danilo\\PROJETOS\\PROJETO12_TESTE_WEBSCRAPPING_AGRO\\data\\processed\\dados_agro_processed.csv'\n",
    "\n",
    "# Verificar se o diretório existe, se não, criar\n",
    "os.makedirs(os.path.dirname(caminho_arquivo), exist_ok=True)\n",
    "\n",
    "# Salvar o DataFrame como um arquivo CSV\n",
    "try:\n",
    "    df_processed.to_csv(caminho_arquivo, index=False)\n",
    "    print(f\"Dados salvos em {caminho_arquivo}!\")\n",
    "except Exception as e:\n",
    "    print(f\"Erro ao salvar os dados como CSV: {e}\")"
   ]
  },
  {
   "cell_type": "code",
   "execution_count": 584,
   "id": "56fcc21a-77a9-4fc0-a80e-bcd98a098833",
   "metadata": {},
   "outputs": [],
   "source": [
    "# ajustar conforme sua pasta de trabalho local/remota\n",
    "# se quiser abrir o arquivo já processado de forma intermediária, comece a partir daqui\n",
    "\n",
    "#data_path = r'C:\\Users\\Danilo\\PROJETOS\\PROJETO12_TESTE_WEBSCRAPPING_AGRO\\data\\processed\\dados_agro_processed.csv'\n",
    "\n",
    "# Adiciona o caminho ao sys.path\n",
    "#sys.path.append(data_path)\n",
    "\n",
    "# Carregar os dados do arquivo csv\n",
    "#df = pd.read_csv(data_path)\n",
    "#print(df.head())"
   ]
  },
  {
   "cell_type": "markdown",
   "id": "247bea4f-0ef4-4c5f-bc8f-b9bca7e7722f",
   "metadata": {},
   "source": [
    "## 6.3 - Ajuste dos dados nulos"
   ]
  },
  {
   "cell_type": "code",
   "execution_count": 585,
   "id": "1af0732c-ca37-44a2-9c4d-288945589e20",
   "metadata": {},
   "outputs": [
    {
     "data": {
      "text/plain": [
       "data           0\n",
       "produto        0\n",
       "municipio      0\n",
       "tipo           0\n",
       "peso          48\n",
       "preco        229\n",
       "dtype: int64"
      ]
     },
     "execution_count": 585,
     "metadata": {},
     "output_type": "execute_result"
    }
   ],
   "source": [
    "df.isnull().sum()"
   ]
  },
  {
   "cell_type": "code",
   "execution_count": 586,
   "id": "c5f443e2-ca89-4842-83d7-293a36a8af89",
   "metadata": {},
   "outputs": [],
   "source": [
    "# por ora vamos manter a coluna peso\n",
    "# Vamos excluir as linhas onde a coluna 'preco' é nula\n",
    "df = df.dropna(subset=['preco'])"
   ]
  },
  {
   "cell_type": "markdown",
   "id": "777d5adb-ab83-420b-82c5-29fdbc0cf4d7",
   "metadata": {},
   "source": [
    "## 6.4 - Removendo dados duplicados e pequenos ajustes"
   ]
  },
  {
   "cell_type": "code",
   "execution_count": 587,
   "id": "40598a86-cc87-43cb-bf43-cfc07047f187",
   "metadata": {},
   "outputs": [
    {
     "data": {
      "text/plain": [
       "52"
      ]
     },
     "execution_count": 587,
     "metadata": {},
     "output_type": "execute_result"
    }
   ],
   "source": [
    "df.duplicated().sum()"
   ]
  },
  {
   "cell_type": "code",
   "execution_count": 588,
   "id": "6da3106a-c00c-4920-bb77-36072d4d5740",
   "metadata": {},
   "outputs": [],
   "source": [
    "# Remover linhas duplicadas\n",
    "df = df.drop_duplicates()"
   ]
  },
  {
   "cell_type": "code",
   "execution_count": 589,
   "id": "fb1497dc-1cdd-410a-b5b5-1654644fc4a1",
   "metadata": {},
   "outputs": [
    {
     "data": {
      "text/plain": [
       "0"
      ]
     },
     "execution_count": 589,
     "metadata": {},
     "output_type": "execute_result"
    }
   ],
   "source": [
    "df.duplicated().sum()"
   ]
  },
  {
   "cell_type": "code",
   "execution_count": 590,
   "id": "83f15bac-216c-4983-a04f-3be3884f7553",
   "metadata": {},
   "outputs": [
    {
     "data": {
      "text/html": [
       "<div>\n",
       "<style scoped>\n",
       "    .dataframe tbody tr th:only-of-type {\n",
       "        vertical-align: middle;\n",
       "    }\n",
       "\n",
       "    .dataframe tbody tr th {\n",
       "        vertical-align: top;\n",
       "    }\n",
       "\n",
       "    .dataframe thead th {\n",
       "        text-align: right;\n",
       "    }\n",
       "</style>\n",
       "<table border=\"1\" class=\"dataframe\">\n",
       "  <thead>\n",
       "    <tr style=\"text-align: right;\">\n",
       "      <th></th>\n",
       "      <th>data</th>\n",
       "      <th>produto</th>\n",
       "      <th>municipio</th>\n",
       "      <th>tipo</th>\n",
       "      <th>peso</th>\n",
       "      <th>preco</th>\n",
       "    </tr>\n",
       "  </thead>\n",
       "  <tbody>\n",
       "    <tr>\n",
       "      <th>0</th>\n",
       "      <td>2015-01-05</td>\n",
       "      <td>Abacate</td>\n",
       "      <td>SALVADOR</td>\n",
       "      <td>comum</td>\n",
       "      <td>30.0</td>\n",
       "      <td>108.0</td>\n",
       "    </tr>\n",
       "    <tr>\n",
       "      <th>1</th>\n",
       "      <td>2015-01-06</td>\n",
       "      <td>Abacate</td>\n",
       "      <td>SALVADOR</td>\n",
       "      <td>comum</td>\n",
       "      <td>30.0</td>\n",
       "      <td>108.0</td>\n",
       "    </tr>\n",
       "    <tr>\n",
       "      <th>2</th>\n",
       "      <td>2015-01-07</td>\n",
       "      <td>Abacate</td>\n",
       "      <td>SALVADOR</td>\n",
       "      <td>comum</td>\n",
       "      <td>30.0</td>\n",
       "      <td>108.0</td>\n",
       "    </tr>\n",
       "    <tr>\n",
       "      <th>3</th>\n",
       "      <td>2015-01-08</td>\n",
       "      <td>Abacate</td>\n",
       "      <td>SALVADOR</td>\n",
       "      <td>comum</td>\n",
       "      <td>30.0</td>\n",
       "      <td>108.0</td>\n",
       "    </tr>\n",
       "    <tr>\n",
       "      <th>4</th>\n",
       "      <td>2015-01-09</td>\n",
       "      <td>Abacate</td>\n",
       "      <td>SALVADOR</td>\n",
       "      <td>comum</td>\n",
       "      <td>30.0</td>\n",
       "      <td>108.0</td>\n",
       "    </tr>\n",
       "  </tbody>\n",
       "</table>\n",
       "</div>"
      ],
      "text/plain": [
       "        data  produto municipio   tipo  peso  preco\n",
       "0 2015-01-05  Abacate  SALVADOR  comum  30.0  108.0\n",
       "1 2015-01-06  Abacate  SALVADOR  comum  30.0  108.0\n",
       "2 2015-01-07  Abacate  SALVADOR  comum  30.0  108.0\n",
       "3 2015-01-08  Abacate  SALVADOR  comum  30.0  108.0\n",
       "4 2015-01-09  Abacate  SALVADOR  comum  30.0  108.0"
      ]
     },
     "execution_count": 590,
     "metadata": {},
     "output_type": "execute_result"
    }
   ],
   "source": [
    "df.head()"
   ]
  },
  {
   "cell_type": "code",
   "execution_count": 591,
   "id": "3a0c2085-aa98-43e2-825f-680a0d935e67",
   "metadata": {},
   "outputs": [
    {
     "data": {
      "text/plain": [
       "(2164, 6)"
      ]
     },
     "execution_count": 591,
     "metadata": {},
     "output_type": "execute_result"
    }
   ],
   "source": [
    "df.shape"
   ]
  },
  {
   "cell_type": "code",
   "execution_count": 592,
   "id": "7c93a46e-8b4d-438f-b173-b456565a578c",
   "metadata": {},
   "outputs": [
    {
     "data": {
      "text/plain": [
       "array([30., 25., nan, 20.,  7.])"
      ]
     },
     "execution_count": 592,
     "metadata": {},
     "output_type": "execute_result"
    }
   ],
   "source": [
    "df['peso'].unique()"
   ]
  },
  {
   "cell_type": "code",
   "execution_count": 593,
   "id": "e0c6d51c-f41d-40e4-a0df-93a365aae594",
   "metadata": {},
   "outputs": [
    {
     "data": {
      "text/plain": [
       "48"
      ]
     },
     "execution_count": 593,
     "metadata": {},
     "output_type": "execute_result"
    }
   ],
   "source": [
    "# número de linhas do tipo nan\n",
    "df['peso'].isna().sum()"
   ]
  },
  {
   "cell_type": "code",
   "execution_count": 594,
   "id": "4d0212fa-2049-419d-a976-43e998751999",
   "metadata": {},
   "outputs": [],
   "source": [
    "# Decisão: como são poucas, vamos excluir onde o peso é nan\n",
    "df.dropna(subset=['peso'], inplace=True)"
   ]
  },
  {
   "cell_type": "code",
   "execution_count": 595,
   "id": "44e3cde5-27ec-441d-818a-5891cb6292b1",
   "metadata": {},
   "outputs": [
    {
     "data": {
      "text/plain": [
       "data         datetime64[ns]\n",
       "produto              object\n",
       "municipio            object\n",
       "tipo                 object\n",
       "peso                float64\n",
       "preco               float64\n",
       "dtype: object"
      ]
     },
     "execution_count": 595,
     "metadata": {},
     "output_type": "execute_result"
    }
   ],
   "source": [
    "df.dtypes"
   ]
  },
  {
   "cell_type": "code",
   "execution_count": 596,
   "id": "4e7b48b4-f7ea-4179-baba-32b595bd807f",
   "metadata": {},
   "outputs": [
    {
     "data": {
      "text/html": [
       "<div>\n",
       "<style scoped>\n",
       "    .dataframe tbody tr th:only-of-type {\n",
       "        vertical-align: middle;\n",
       "    }\n",
       "\n",
       "    .dataframe tbody tr th {\n",
       "        vertical-align: top;\n",
       "    }\n",
       "\n",
       "    .dataframe thead th {\n",
       "        text-align: right;\n",
       "    }\n",
       "</style>\n",
       "<table border=\"1\" class=\"dataframe\">\n",
       "  <thead>\n",
       "    <tr style=\"text-align: right;\">\n",
       "      <th></th>\n",
       "      <th>data</th>\n",
       "      <th>produto</th>\n",
       "      <th>municipio</th>\n",
       "      <th>tipo</th>\n",
       "      <th>peso</th>\n",
       "      <th>preco</th>\n",
       "    </tr>\n",
       "  </thead>\n",
       "  <tbody>\n",
       "    <tr>\n",
       "      <th>0</th>\n",
       "      <td>2015-01-05</td>\n",
       "      <td>Abacate</td>\n",
       "      <td>SALVADOR</td>\n",
       "      <td>comum</td>\n",
       "      <td>30.0</td>\n",
       "      <td>108.0</td>\n",
       "    </tr>\n",
       "    <tr>\n",
       "      <th>1</th>\n",
       "      <td>2015-01-06</td>\n",
       "      <td>Abacate</td>\n",
       "      <td>SALVADOR</td>\n",
       "      <td>comum</td>\n",
       "      <td>30.0</td>\n",
       "      <td>108.0</td>\n",
       "    </tr>\n",
       "    <tr>\n",
       "      <th>2</th>\n",
       "      <td>2015-01-07</td>\n",
       "      <td>Abacate</td>\n",
       "      <td>SALVADOR</td>\n",
       "      <td>comum</td>\n",
       "      <td>30.0</td>\n",
       "      <td>108.0</td>\n",
       "    </tr>\n",
       "    <tr>\n",
       "      <th>3</th>\n",
       "      <td>2015-01-08</td>\n",
       "      <td>Abacate</td>\n",
       "      <td>SALVADOR</td>\n",
       "      <td>comum</td>\n",
       "      <td>30.0</td>\n",
       "      <td>108.0</td>\n",
       "    </tr>\n",
       "    <tr>\n",
       "      <th>4</th>\n",
       "      <td>2015-01-09</td>\n",
       "      <td>Abacate</td>\n",
       "      <td>SALVADOR</td>\n",
       "      <td>comum</td>\n",
       "      <td>30.0</td>\n",
       "      <td>108.0</td>\n",
       "    </tr>\n",
       "  </tbody>\n",
       "</table>\n",
       "</div>"
      ],
      "text/plain": [
       "        data  produto municipio   tipo  peso  preco\n",
       "0 2015-01-05  Abacate  SALVADOR  comum  30.0  108.0\n",
       "1 2015-01-06  Abacate  SALVADOR  comum  30.0  108.0\n",
       "2 2015-01-07  Abacate  SALVADOR  comum  30.0  108.0\n",
       "3 2015-01-08  Abacate  SALVADOR  comum  30.0  108.0\n",
       "4 2015-01-09  Abacate  SALVADOR  comum  30.0  108.0"
      ]
     },
     "execution_count": 596,
     "metadata": {},
     "output_type": "execute_result"
    }
   ],
   "source": [
    "df.head()"
   ]
  },
  {
   "cell_type": "markdown",
   "id": "7370016a-b7b4-46b3-b877-ee3098d95777",
   "metadata": {},
   "source": [
    "## 6.5 - Salvando o dataframe final"
   ]
  },
  {
   "cell_type": "code",
   "execution_count": 598,
   "id": "b6b21db2-4931-4a51-9cf7-f14bd7a98c60",
   "metadata": {},
   "outputs": [
    {
     "name": "stdout",
     "output_type": "stream",
     "text": [
      "Dados salvos em C:\\Users\\Danilo\\PROJETOS\\PROJETO12_TESTE_WEBSCRAPPING_AGRO\\data\\final\\dados_agro_final.csv!\n"
     ]
    }
   ],
   "source": [
    "# salvando dados finais aptos para análise em formato csv\n",
    "df_final=df\n",
    "\n",
    "# Defina o caminho do arquivo CSV\n",
    "caminho_arquivo = r'C:\\Users\\Danilo\\PROJETOS\\PROJETO12_TESTE_WEBSCRAPPING_AGRO\\data\\final\\dados_agro_final.csv'\n",
    "\n",
    "# Verificar se o diretório existe, se não, criar\n",
    "os.makedirs(os.path.dirname(caminho_arquivo), exist_ok=True)\n",
    "\n",
    "# Salvar o DataFrame como um arquivo CSV\n",
    "try:\n",
    "    df_final.to_csv(caminho_arquivo, index=False)\n",
    "    print(f\"Dados salvos em {caminho_arquivo}!\")\n",
    "except Exception as e:\n",
    "    print(f\"Erro ao salvar os dados como CSV: {e}\")"
   ]
  },
  {
   "cell_type": "code",
   "execution_count": 599,
   "id": "25c2043f-a59f-47d3-81b7-77fd7e9b96b8",
   "metadata": {},
   "outputs": [],
   "source": [
    "# ajustar conforme sua pasta de trabalho local/remota\n",
    "# se quiser abrir o arquivo final, comece a partir daqui\n",
    "\n",
    "#data_path = r'C:\\Users\\Danilo\\PROJETOS\\PROJETO12_TESTE_WEBSCRAPPING_AGRO\\data\\final\\dados_agro_final.csv'\n",
    "\n",
    "# Adiciona o caminho ao sys.path\n",
    "#sys.path.append(data_path)\n",
    "\n",
    "# Carregar os dados do arquivo csv\n",
    "#df = pd.read_csv(data_path)\n",
    "#print(df.head())"
   ]
  },
  {
   "cell_type": "code",
   "execution_count": 600,
   "id": "c60d6207-0494-4578-9237-ab74ec08e279",
   "metadata": {},
   "outputs": [
    {
     "data": {
      "text/plain": [
       "data         datetime64[ns]\n",
       "produto              object\n",
       "municipio            object\n",
       "tipo                 object\n",
       "peso                float64\n",
       "preco               float64\n",
       "dtype: object"
      ]
     },
     "execution_count": 600,
     "metadata": {},
     "output_type": "execute_result"
    }
   ],
   "source": [
    "# Verificando os tipos de cada variável\n",
    "df_final.dtypes"
   ]
  },
  {
   "cell_type": "code",
   "execution_count": 601,
   "id": "7f7b2e72-5de2-4dff-ab9c-d9b4e54f2e63",
   "metadata": {},
   "outputs": [],
   "source": [
    "# As colunas municipio e produto podem ser exluídas já que só estamos tratando de Abacate em Salvador\n",
    "# Excluir colunas 'produto' e 'municipio'\n",
    "df = df.drop(columns=['produto', 'municipio'])\n",
    "# Vamos adicionar a coluna 'quant_vendas' com valor fixo 20\n",
    "df['quant_vendas'] = 20"
   ]
  },
  {
   "cell_type": "code",
   "execution_count": 602,
   "id": "6a64b748-b1c4-459c-8b12-89256af18a88",
   "metadata": {},
   "outputs": [
    {
     "data": {
      "text/html": [
       "<div>\n",
       "<style scoped>\n",
       "    .dataframe tbody tr th:only-of-type {\n",
       "        vertical-align: middle;\n",
       "    }\n",
       "\n",
       "    .dataframe tbody tr th {\n",
       "        vertical-align: top;\n",
       "    }\n",
       "\n",
       "    .dataframe thead th {\n",
       "        text-align: right;\n",
       "    }\n",
       "</style>\n",
       "<table border=\"1\" class=\"dataframe\">\n",
       "  <thead>\n",
       "    <tr style=\"text-align: right;\">\n",
       "      <th></th>\n",
       "      <th>data</th>\n",
       "      <th>tipo</th>\n",
       "      <th>peso</th>\n",
       "      <th>preco</th>\n",
       "      <th>quant_vendas</th>\n",
       "    </tr>\n",
       "  </thead>\n",
       "  <tbody>\n",
       "    <tr>\n",
       "      <th>0</th>\n",
       "      <td>2015-01-05</td>\n",
       "      <td>comum</td>\n",
       "      <td>30.0</td>\n",
       "      <td>108.0</td>\n",
       "      <td>20</td>\n",
       "    </tr>\n",
       "    <tr>\n",
       "      <th>1</th>\n",
       "      <td>2015-01-06</td>\n",
       "      <td>comum</td>\n",
       "      <td>30.0</td>\n",
       "      <td>108.0</td>\n",
       "      <td>20</td>\n",
       "    </tr>\n",
       "    <tr>\n",
       "      <th>2</th>\n",
       "      <td>2015-01-07</td>\n",
       "      <td>comum</td>\n",
       "      <td>30.0</td>\n",
       "      <td>108.0</td>\n",
       "      <td>20</td>\n",
       "    </tr>\n",
       "    <tr>\n",
       "      <th>3</th>\n",
       "      <td>2015-01-08</td>\n",
       "      <td>comum</td>\n",
       "      <td>30.0</td>\n",
       "      <td>108.0</td>\n",
       "      <td>20</td>\n",
       "    </tr>\n",
       "    <tr>\n",
       "      <th>4</th>\n",
       "      <td>2015-01-09</td>\n",
       "      <td>comum</td>\n",
       "      <td>30.0</td>\n",
       "      <td>108.0</td>\n",
       "      <td>20</td>\n",
       "    </tr>\n",
       "  </tbody>\n",
       "</table>\n",
       "</div>"
      ],
      "text/plain": [
       "        data   tipo  peso  preco  quant_vendas\n",
       "0 2015-01-05  comum  30.0  108.0            20\n",
       "1 2015-01-06  comum  30.0  108.0            20\n",
       "2 2015-01-07  comum  30.0  108.0            20\n",
       "3 2015-01-08  comum  30.0  108.0            20\n",
       "4 2015-01-09  comum  30.0  108.0            20"
      ]
     },
     "execution_count": 602,
     "metadata": {},
     "output_type": "execute_result"
    }
   ],
   "source": [
    "df.head()"
   ]
  },
  {
   "cell_type": "code",
   "execution_count": 603,
   "id": "c2cd3e7f-92a0-4ff2-b829-58d270ce63d9",
   "metadata": {},
   "outputs": [
    {
     "data": {
      "text/plain": [
       "data            datetime64[ns]\n",
       "tipo                    object\n",
       "peso                   float64\n",
       "preco                  float64\n",
       "quant_vendas             int64\n",
       "dtype: object"
      ]
     },
     "execution_count": 603,
     "metadata": {},
     "output_type": "execute_result"
    }
   ],
   "source": [
    "df.dtypes"
   ]
  },
  {
   "cell_type": "code",
   "execution_count": 650,
   "id": "dc388992-c9ce-4dc4-b922-589990fe5c23",
   "metadata": {},
   "outputs": [],
   "source": [
    "# Vamos economizar espaço de memória mudando o tipo da 'quant_vendas\" de int64 para int32\n",
    "df['quant_vendas'] =df['quant_vendas'].astype('int32')"
   ]
  },
  {
   "cell_type": "code",
   "execution_count": 651,
   "id": "27ebf9e7-b2b7-45b0-80a8-1c17d58ccc7c",
   "metadata": {},
   "outputs": [
    {
     "data": {
      "text/plain": [
       "data               datetime64[ns]\n",
       "tipo                       object\n",
       "peso                      float64\n",
       "preco                     float64\n",
       "quant_vendas                int32\n",
       "receita                   float64\n",
       "preco_por_peso            float64\n",
       "custo_produto             float64\n",
       "custo                     float64\n",
       "margem_de_lucro           float64\n",
       "dtype: object"
      ]
     },
     "execution_count": 651,
     "metadata": {},
     "output_type": "execute_result"
    }
   ],
   "source": [
    "df.dtypes"
   ]
  },
  {
   "cell_type": "markdown",
   "id": "e12b2cd6-b888-4dfa-9a89-a32bb055f3e9",
   "metadata": {},
   "source": [
    "## 6.6 - Exploração das variáveis numéricas"
   ]
  },
  {
   "cell_type": "code",
   "execution_count": 606,
   "id": "3cd7b144-323e-468f-b22f-3830824ba4be",
   "metadata": {},
   "outputs": [],
   "source": [
    "# Arredondando as variáveis numéricas para 2 dígitos após a virgula\n",
    "df = df.round(2)"
   ]
  },
  {
   "cell_type": "code",
   "execution_count": 607,
   "id": "03a25d64-cdbf-4ae6-857c-618462ad4451",
   "metadata": {},
   "outputs": [
    {
     "data": {
      "text/html": [
       "<div>\n",
       "<style scoped>\n",
       "    .dataframe tbody tr th:only-of-type {\n",
       "        vertical-align: middle;\n",
       "    }\n",
       "\n",
       "    .dataframe tbody tr th {\n",
       "        vertical-align: top;\n",
       "    }\n",
       "\n",
       "    .dataframe thead th {\n",
       "        text-align: right;\n",
       "    }\n",
       "</style>\n",
       "<table border=\"1\" class=\"dataframe\">\n",
       "  <thead>\n",
       "    <tr style=\"text-align: right;\">\n",
       "      <th></th>\n",
       "      <th>peso</th>\n",
       "      <th>preco</th>\n",
       "      <th>quant_vendas</th>\n",
       "    </tr>\n",
       "  </thead>\n",
       "  <tbody>\n",
       "    <tr>\n",
       "      <th>count</th>\n",
       "      <td>2116.000000</td>\n",
       "      <td>2116.000000</td>\n",
       "      <td>2116.0</td>\n",
       "    </tr>\n",
       "    <tr>\n",
       "      <th>mean</th>\n",
       "      <td>28.911626</td>\n",
       "      <td>125.169187</td>\n",
       "      <td>20.0</td>\n",
       "    </tr>\n",
       "    <tr>\n",
       "      <th>std</th>\n",
       "      <td>2.602279</td>\n",
       "      <td>59.519707</td>\n",
       "      <td>0.0</td>\n",
       "    </tr>\n",
       "    <tr>\n",
       "      <th>min</th>\n",
       "      <td>7.000000</td>\n",
       "      <td>1.000000</td>\n",
       "      <td>20.0</td>\n",
       "    </tr>\n",
       "    <tr>\n",
       "      <th>25%</th>\n",
       "      <td>30.000000</td>\n",
       "      <td>90.000000</td>\n",
       "      <td>20.0</td>\n",
       "    </tr>\n",
       "    <tr>\n",
       "      <th>50%</th>\n",
       "      <td>30.000000</td>\n",
       "      <td>120.000000</td>\n",
       "      <td>20.0</td>\n",
       "    </tr>\n",
       "    <tr>\n",
       "      <th>75%</th>\n",
       "      <td>30.000000</td>\n",
       "      <td>150.000000</td>\n",
       "      <td>20.0</td>\n",
       "    </tr>\n",
       "    <tr>\n",
       "      <th>max</th>\n",
       "      <td>30.000000</td>\n",
       "      <td>520.000000</td>\n",
       "      <td>20.0</td>\n",
       "    </tr>\n",
       "  </tbody>\n",
       "</table>\n",
       "</div>"
      ],
      "text/plain": [
       "              peso        preco  quant_vendas\n",
       "count  2116.000000  2116.000000        2116.0\n",
       "mean     28.911626   125.169187          20.0\n",
       "std       2.602279    59.519707           0.0\n",
       "min       7.000000     1.000000          20.0\n",
       "25%      30.000000    90.000000          20.0\n",
       "50%      30.000000   120.000000          20.0\n",
       "75%      30.000000   150.000000          20.0\n",
       "max      30.000000   520.000000          20.0"
      ]
     },
     "execution_count": 607,
     "metadata": {},
     "output_type": "execute_result"
    }
   ],
   "source": [
    "# Seleciona apenas as colunas numéricas e mostra estatísticas básicas\n",
    "df_num = df.select_dtypes(include='number')\n",
    "df_num.describe()"
   ]
  },
  {
   "cell_type": "code",
   "execution_count": 608,
   "id": "6f4b3a4e-fd95-4019-8012-3516d0a8a16b",
   "metadata": {},
   "outputs": [
    {
     "data": {
      "image/png": "[encoded data removed]",
      "text/plain": [
       "<Figure size 1500x1500 with 4 Axes>"
      ]
     },
     "metadata": {},
     "output_type": "display_data"
    }
   ],
   "source": [
    "# Histograma das variáveis numéricas \n",
    "df_num.hist(figsize = (15,15), bins = 10) \n",
    "plt.show()"
   ]
  },
  {
   "cell_type": "code",
   "execution_count": 609,
   "id": "6d3f881a-626e-4841-b1d9-8e1f79ee776b",
   "metadata": {},
   "outputs": [],
   "source": [
    "# Insighs:\n",
    "# Maior parte dos pesos é de 30kg\n",
    "# Maior parte dos preços é entre R$ 100 e R$ 150\n",
    "# A quantidade de vendas é 20 porque não tínhamos este dado e inserimos para fazer nossa análise"
   ]
  },
  {
   "cell_type": "code",
   "execution_count": 610,
   "id": "25cc3f9f-e43c-401d-916e-c5445161f9bd",
   "metadata": {},
   "outputs": [
    {
     "data": {
      "text/html": [
       "<div>\n",
       "<style scoped>\n",
       "    .dataframe tbody tr th:only-of-type {\n",
       "        vertical-align: middle;\n",
       "    }\n",
       "\n",
       "    .dataframe tbody tr th {\n",
       "        vertical-align: top;\n",
       "    }\n",
       "\n",
       "    .dataframe thead th {\n",
       "        text-align: right;\n",
       "    }\n",
       "</style>\n",
       "<table border=\"1\" class=\"dataframe\">\n",
       "  <thead>\n",
       "    <tr style=\"text-align: right;\">\n",
       "      <th></th>\n",
       "      <th>peso</th>\n",
       "      <th>preco</th>\n",
       "      <th>quant_vendas</th>\n",
       "    </tr>\n",
       "  </thead>\n",
       "  <tbody>\n",
       "    <tr>\n",
       "      <th>peso</th>\n",
       "      <td>1.000000</td>\n",
       "      <td>0.182721</td>\n",
       "      <td>NaN</td>\n",
       "    </tr>\n",
       "    <tr>\n",
       "      <th>preco</th>\n",
       "      <td>0.182721</td>\n",
       "      <td>1.000000</td>\n",
       "      <td>NaN</td>\n",
       "    </tr>\n",
       "    <tr>\n",
       "      <th>quant_vendas</th>\n",
       "      <td>NaN</td>\n",
       "      <td>NaN</td>\n",
       "      <td>NaN</td>\n",
       "    </tr>\n",
       "  </tbody>\n",
       "</table>\n",
       "</div>"
      ],
      "text/plain": [
       "                  peso     preco  quant_vendas\n",
       "peso          1.000000  0.182721           NaN\n",
       "preco         0.182721  1.000000           NaN\n",
       "quant_vendas       NaN       NaN           NaN"
      ]
     },
     "execution_count": 610,
     "metadata": {},
     "output_type": "execute_result"
    }
   ],
   "source": [
    "# Correlação das variáveis numéricas\n",
    "df_num.corr()"
   ]
  },
  {
   "cell_type": "code",
   "execution_count": 611,
   "id": "2583a334-a8ed-4292-82cc-54c1f65a69df",
   "metadata": {},
   "outputs": [],
   "source": [
    "# baixa correlação entre peso e preço."
   ]
  },
  {
   "cell_type": "code",
   "execution_count": 612,
   "id": "3d8e71d9-8d69-4dd6-bebb-e6a2f79e264b",
   "metadata": {},
   "outputs": [
    {
     "data": {
      "text/plain": [
       "peso\n",
       "30.0    1757\n",
       "25.0     260\n",
       "20.0      98\n",
       "7.0        1\n",
       "Name: count, dtype: int64"
      ]
     },
     "execution_count": 612,
     "metadata": {},
     "output_type": "execute_result"
    }
   ],
   "source": [
    "# Verificando quantidade de valores para cada peso\n",
    "df_num['peso'].value_counts()"
   ]
  },
  {
   "cell_type": "code",
   "execution_count": 613,
   "id": "837b22a4-33a4-4a76-8941-6085971c9521",
   "metadata": {},
   "outputs": [
    {
     "data": {
      "text/plain": [
       "preco\n",
       "120.0    199\n",
       "50.0     184\n",
       "105.0    166\n",
       "150.0    153\n",
       "90.0     133\n",
       "97.0     110\n",
       "135.0    107\n",
       "180.0    105\n",
       "112.0     92\n",
       "165.0     79\n",
       "202.0     73\n",
       "247.0     64\n",
       "82.0      61\n",
       "210.0     56\n",
       "130.0     47\n",
       "100.0     46\n",
       "60.0      44\n",
       "75.0      32\n",
       "45.0      32\n",
       "225.0     29\n",
       "124.0     27\n",
       "52.0      23\n",
       "1.0       22\n",
       "133.0     21\n",
       "255.0     17\n",
       "108.0     15\n",
       "147.0     15\n",
       "132.0     14\n",
       "127.0     13\n",
       "154.0     13\n",
       "93.0      10\n",
       "47.0       9\n",
       "520.0      9\n",
       "25.0       8\n",
       "155.0      7\n",
       "141.0      7\n",
       "114.0      7\n",
       "187.0      7\n",
       "110.0      6\n",
       "172.0      6\n",
       "70.0       6\n",
       "300.0      5\n",
       "270.0      5\n",
       "40.0       4\n",
       "285.0      4\n",
       "122.0      4\n",
       "170.0      3\n",
       "62.0       3\n",
       "111.0      3\n",
       "240.0      2\n",
       "250.0      2\n",
       "195.0      2\n",
       "145.0      1\n",
       "102.0      1\n",
       "99.0       1\n",
       "80.0       1\n",
       "36.0       1\n",
       "Name: count, dtype: int64"
      ]
     },
     "execution_count": 613,
     "metadata": {},
     "output_type": "execute_result"
    }
   ],
   "source": [
    "# Verificando quantidade de valores para cada preço\n",
    "df_num['preco'].value_counts()"
   ]
  },
  {
   "cell_type": "code",
   "execution_count": 614,
   "id": "1c4fb851-4458-4a0a-a0d0-ca628afd973c",
   "metadata": {},
   "outputs": [],
   "source": [
    "# As variáveis 'peso' e 'preco' estão desbalanceadas"
   ]
  },
  {
   "cell_type": "markdown",
   "id": "bd370e75-9b4c-4695-96ee-a6187941219a",
   "metadata": {},
   "source": [
    "## 6.7 - Verificando a relação entre atributos"
   ]
  },
  {
   "cell_type": "code",
   "execution_count": 615,
   "id": "30d42172-4e8a-4285-aebb-c3b616055d6c",
   "metadata": {},
   "outputs": [
    {
     "data": {
      "text/plain": [
       "<seaborn.axisgrid.FacetGrid at 0x1f5f4f31d00>"
      ]
     },
     "execution_count": 615,
     "metadata": {},
     "output_type": "execute_result"
    },
    {
     "data": {
      "image/png": "[encoded data removed]",
      "text/plain": [
       "<Figure size 377.125x300 with 1 Axes>"
      ]
     },
     "metadata": {},
     "output_type": "display_data"
    }
   ],
   "source": [
    "# Define o estilo do background\n",
    "sns.set_style('darkgrid')  \n",
    "\n",
    "# Facetgrid\n",
    "sns.FacetGrid(df, hue = 'peso').map(plt.scatter, 'tipo', 'preco').add_legend()"
   ]
  },
  {
   "cell_type": "code",
   "execution_count": 616,
   "id": "33570324-11a3-4c1b-9907-e828d5d63933",
   "metadata": {},
   "outputs": [],
   "source": [
    "#Insights:\n",
    "# Só o tipo hawai tem peso de 7Kg\n",
    "# O tipo comum só é tem preço para 30Kg\n",
    "# O tipo médio tme todos os pesos com outliers de peso 20 e 30Kg# Agrupar os dados por 'tipo' e somar o 'peso'"
   ]
  },
  {
   "cell_type": "code",
   "execution_count": 652,
   "id": "99cc504f-0ccf-4ce5-b3ba-ee5238268a33",
   "metadata": {},
   "outputs": [
    {
     "data": {
      "image/png": "[encoded data removed]",
      "text/plain": [
       "<Figure size 800x500 with 1 Axes>"
      ]
     },
     "metadata": {},
     "output_type": "display_data"
    }
   ],
   "source": [
    "# Criar o gráfico de barras \n",
    "plt.figure(figsize=(8, 5))  \n",
    "sns.barplot(x='tipo', y='peso', data=df, color='orange', edgecolor='black', ci=None)\n",
    "\n",
    "# Adicionar títulos e rótulos\n",
    "plt.title('Peso (Kg) por Tipo de Abacate')\n",
    "\n",
    "# Mostrar o gráfico\n",
    "plt.show()"
   ]
  },
  {
   "cell_type": "code",
   "execution_count": 618,
   "id": "682c8afa-d09f-4cb8-83a9-f43f29cf52bd",
   "metadata": {},
   "outputs": [
    {
     "name": "stdout",
     "output_type": "stream",
     "text": [
      "    tipo  media_peso\n",
      "0  comum   30.000000\n",
      "1  hawai    7.000000\n",
      "2  medio   25.714286\n"
     ]
    }
   ],
   "source": [
    "# Calcular a média de peso por tipo\n",
    "media_peso_por_tipo = df.groupby('tipo')['peso'].mean().reset_index()\n",
    "\n",
    "# Renomear a coluna para mais clareza\n",
    "media_peso_por_tipo.columns = ['tipo', 'media_peso']\n",
    "\n",
    "# Exibir os resultados\n",
    "print(media_peso_por_tipo)"
   ]
  },
  {
   "cell_type": "code",
   "execution_count": 619,
   "id": "5f1efccc-2ca9-40e3-8d47-348c3289e9c9",
   "metadata": {},
   "outputs": [],
   "source": [
    "# Em média o abacate comum é vendido por a cada 30Kg\n",
    "# Em média o abacate médio é vendido para cada 25,7 Kg\n",
    "# Em média o abacate médio é vendido para cada 7 Kg"
   ]
  },
  {
   "cell_type": "code",
   "execution_count": 653,
   "id": "47e43113-50ca-474e-b0d0-15ef6df4f59e",
   "metadata": {},
   "outputs": [
    {
     "data": {
      "image/png": "[encoded data removed]",
      "text/plain": [
       "<Figure size 800x500 with 1 Axes>"
      ]
     },
     "metadata": {},
     "output_type": "display_data"
    }
   ],
   "source": [
    "# Criar o gráfico de barras \n",
    "plt.figure(figsize=(8, 5))  \n",
    "sns.barplot(x='tipo', y='preco', data=df, palette='viridis', edgecolor='black', ci=None)\n",
    "\n",
    "# Adicionar títulos e rótulos\n",
    "plt.title('Preco (R$) por Tipo de Abacate')\n",
    "\n",
    "# Mostrar o gráfico\n",
    "plt.show()"
   ]
  },
  {
   "cell_type": "code",
   "execution_count": 621,
   "id": "2c018ac5-03c9-4017-ba17-6cbf98aa319d",
   "metadata": {},
   "outputs": [
    {
     "name": "stdout",
     "output_type": "stream",
     "text": [
      "    tipo  media_preco\n",
      "0  comum   131.601390\n",
      "1  hawai    36.000000\n",
      "2  medio   106.197368\n"
     ]
    }
   ],
   "source": [
    "# Calcular a média de preco por tipo\n",
    "media_preco_por_tipo = df.groupby('tipo')['preco'].mean().reset_index()\n",
    "\n",
    "# Renomear a coluna para mais clareza\n",
    "media_preco_por_tipo.columns = ['tipo', 'media_preco']\n",
    "\n",
    "# Exibir os resultados\n",
    "print(media_preco_por_tipo)"
   ]
  },
  {
   "cell_type": "code",
   "execution_count": 622,
   "id": "2f9272fd-941a-4ed2-baae-22b6f1f90e13",
   "metadata": {},
   "outputs": [],
   "source": [
    "# Em média o abacate comum é vendido por a cada 30Kg com média de preço de R$131,6\n",
    "# Em média o abacate médio é vendido para cada 25,7 Kg com média de preço de R$106,2\n",
    "# Em média o abacate hawai é vendido para cada 7 Kg com média de preço de R$36"
   ]
  },
  {
   "cell_type": "code",
   "execution_count": 623,
   "id": "0816b759-212b-47c7-993b-517491151690",
   "metadata": {},
   "outputs": [
    {
     "name": "stdout",
     "output_type": "stream",
     "text": [
      "O preço médio por kg do abacate comum é R$4.39, do abacate médio é R$4.13 e do abacate hawai é R$5.14.\n"
     ]
    }
   ],
   "source": [
    "# Cálculo do preço médio por Kg para cada tipo de abacate\n",
    "ac=131.6/30\n",
    "am=106.2/25.7\n",
    "ah=36/7\n",
    "print(f'O preço médio por kg do abacate comum é R${ac:.2f}, do abacate médio é R${am:.2f} e do abacate hawai é R${ah:.2f}.')"
   ]
  },
  {
   "cell_type": "code",
   "execution_count": 624,
   "id": "98bb6433-cdf3-478d-8ea4-d166e5dcd62a",
   "metadata": {},
   "outputs": [],
   "source": [
    "# Por ordem de preço, em média, o abacate mais barato é o médio, depois o comum e o mais caro é o hawai"
   ]
  },
  {
   "cell_type": "code",
   "execution_count": 625,
   "id": "86e9e190-62bf-42d3-b210-714406ebdf61",
   "metadata": {},
   "outputs": [
    {
     "data": {
      "text/plain": [
       "tipo\n",
       "comum    1583\n",
       "medio     532\n",
       "hawai       1\n",
       "Name: count, dtype: int64"
      ]
     },
     "execution_count": 625,
     "metadata": {},
     "output_type": "execute_result"
    }
   ],
   "source": [
    "# Verificando a quantidade de valores para cada tipo de abacate\n",
    "df['tipo'].value_counts()"
   ]
  },
  {
   "cell_type": "code",
   "execution_count": 626,
   "id": "bbd82e4e-b786-42cf-b199-45930c38649d",
   "metadata": {},
   "outputs": [],
   "source": [
    "# O abacate comum pesar de ser mais caro que o médio é o mais vendido."
   ]
  },
  {
   "cell_type": "markdown",
   "id": "9bfba049-c02a-44e3-bdb7-15a458c330b6",
   "metadata": {},
   "source": [
    "## 6.8 - Exploração da coluna data"
   ]
  },
  {
   "cell_type": "code",
   "execution_count": 627,
   "id": "3608d14b-5dc1-4681-b670-ea6a32865dc0",
   "metadata": {},
   "outputs": [
    {
     "data": {
      "text/plain": [
       "count                             2116\n",
       "mean     2019-04-05 07:15:32.325141760\n",
       "min                2015-01-05 00:00:00\n",
       "25%                2016-06-27 18:00:00\n",
       "50%                2019-03-18 12:00:00\n",
       "75%                2021-10-13 06:00:00\n",
       "max                2023-12-29 00:00:00\n",
       "Name: data, dtype: object"
      ]
     },
     "execution_count": 627,
     "metadata": {},
     "output_type": "execute_result"
    }
   ],
   "source": [
    "# Mostra informações estatísticas básicas\n",
    "df['data'].describe()  "
   ]
  },
  {
   "cell_type": "code",
   "execution_count": 628,
   "id": "ad30bd02-8663-40ff-b9fb-f5d92b2385e6",
   "metadata": {},
   "outputs": [
    {
     "name": "stdout",
     "output_type": "stream",
     "text": [
      "2015-01-05 00:00:00\n"
     ]
    }
   ],
   "source": [
    "# Menor data\n",
    "print(df['data'].min())      "
   ]
  },
  {
   "cell_type": "code",
   "execution_count": 629,
   "id": "772b944d-d47a-47fd-a35b-0d693a2113ac",
   "metadata": {},
   "outputs": [
    {
     "name": "stdout",
     "output_type": "stream",
     "text": [
      "2023-12-29 00:00:00\n"
     ]
    }
   ],
   "source": [
    "# Maior data\n",
    "print(df['data'].max())      \n"
   ]
  },
  {
   "cell_type": "code",
   "execution_count": 630,
   "id": "fadbfeeb-f0c7-46d6-8eee-29e1a7058ae9",
   "metadata": {},
   "outputs": [
    {
     "name": "stdout",
     "output_type": "stream",
     "text": [
      "data\n",
      "2015    398\n",
      "2016    249\n",
      "2022    243\n",
      "2023    243\n",
      "2019    221\n",
      "2021    215\n",
      "2018    209\n",
      "2020    185\n",
      "2017    153\n",
      "Name: count, dtype: int64\n"
     ]
    }
   ],
   "source": [
    "# Contagem dos anos\n",
    "print(df['data'].dt.year.value_counts()) "
   ]
  },
  {
   "cell_type": "markdown",
   "id": "7574033e-e4e0-485f-9342-b270a4517368",
   "metadata": {},
   "source": [
    "# 7 - Análise de preços, margem de lucro e ajuste da estratégia de precificação"
   ]
  },
  {
   "cell_type": "markdown",
   "id": "e8741ed2-bfcd-4916-a8f4-8312537fee3f",
   "metadata": {},
   "source": [
    "## 7.1 - Análise de preços"
   ]
  },
  {
   "cell_type": "code",
   "execution_count": 632,
   "id": "407655b6-7663-431d-bee2-e3e8c1a01a74",
   "metadata": {},
   "outputs": [
    {
     "data": {
      "text/html": [
       "<div>\n",
       "<style scoped>\n",
       "    .dataframe tbody tr th:only-of-type {\n",
       "        vertical-align: middle;\n",
       "    }\n",
       "\n",
       "    .dataframe tbody tr th {\n",
       "        vertical-align: top;\n",
       "    }\n",
       "\n",
       "    .dataframe thead th {\n",
       "        text-align: right;\n",
       "    }\n",
       "</style>\n",
       "<table border=\"1\" class=\"dataframe\">\n",
       "  <thead>\n",
       "    <tr style=\"text-align: right;\">\n",
       "      <th></th>\n",
       "      <th>data</th>\n",
       "      <th>tipo</th>\n",
       "      <th>peso</th>\n",
       "      <th>preco</th>\n",
       "      <th>quant_vendas</th>\n",
       "    </tr>\n",
       "  </thead>\n",
       "  <tbody>\n",
       "    <tr>\n",
       "      <th>0</th>\n",
       "      <td>2015-01-05</td>\n",
       "      <td>comum</td>\n",
       "      <td>30.0</td>\n",
       "      <td>108.0</td>\n",
       "      <td>20</td>\n",
       "    </tr>\n",
       "    <tr>\n",
       "      <th>1</th>\n",
       "      <td>2015-01-06</td>\n",
       "      <td>comum</td>\n",
       "      <td>30.0</td>\n",
       "      <td>108.0</td>\n",
       "      <td>20</td>\n",
       "    </tr>\n",
       "    <tr>\n",
       "      <th>2</th>\n",
       "      <td>2015-01-07</td>\n",
       "      <td>comum</td>\n",
       "      <td>30.0</td>\n",
       "      <td>108.0</td>\n",
       "      <td>20</td>\n",
       "    </tr>\n",
       "    <tr>\n",
       "      <th>3</th>\n",
       "      <td>2015-01-08</td>\n",
       "      <td>comum</td>\n",
       "      <td>30.0</td>\n",
       "      <td>108.0</td>\n",
       "      <td>20</td>\n",
       "    </tr>\n",
       "    <tr>\n",
       "      <th>4</th>\n",
       "      <td>2015-01-09</td>\n",
       "      <td>comum</td>\n",
       "      <td>30.0</td>\n",
       "      <td>108.0</td>\n",
       "      <td>20</td>\n",
       "    </tr>\n",
       "  </tbody>\n",
       "</table>\n",
       "</div>"
      ],
      "text/plain": [
       "        data   tipo  peso  preco  quant_vendas\n",
       "0 2015-01-05  comum  30.0  108.0            20\n",
       "1 2015-01-06  comum  30.0  108.0            20\n",
       "2 2015-01-07  comum  30.0  108.0            20\n",
       "3 2015-01-08  comum  30.0  108.0            20\n",
       "4 2015-01-09  comum  30.0  108.0            20"
      ]
     },
     "execution_count": 632,
     "metadata": {},
     "output_type": "execute_result"
    }
   ],
   "source": [
    "# Verificando as 5 primeiras linhas do dataframe\n",
    "df.head()"
   ]
  },
  {
   "cell_type": "code",
   "execution_count": 633,
   "id": "256293e5-e196-4a4b-b591-08fdc891a090",
   "metadata": {},
   "outputs": [
    {
     "data": {
      "text/plain": [
       "data            datetime64[ns]\n",
       "tipo                    object\n",
       "peso                   float64\n",
       "preco                  float64\n",
       "quant_vendas             int32\n",
       "dtype: object"
      ]
     },
     "execution_count": 633,
     "metadata": {},
     "output_type": "execute_result"
    }
   ],
   "source": [
    "# Verificando os tipos de dados das colunas do dataframe\n",
    "df.dtypes"
   ]
  },
  {
   "cell_type": "code",
   "execution_count": 634,
   "id": "15865dd0-bbaf-453f-af85-8e99f35f8de3",
   "metadata": {},
   "outputs": [
    {
     "data": {
      "text/html": [
       "<div>\n",
       "<style scoped>\n",
       "    .dataframe tbody tr th:only-of-type {\n",
       "        vertical-align: middle;\n",
       "    }\n",
       "\n",
       "    .dataframe tbody tr th {\n",
       "        vertical-align: top;\n",
       "    }\n",
       "\n",
       "    .dataframe thead th {\n",
       "        text-align: right;\n",
       "    }\n",
       "</style>\n",
       "<table border=\"1\" class=\"dataframe\">\n",
       "  <thead>\n",
       "    <tr style=\"text-align: right;\">\n",
       "      <th></th>\n",
       "      <th>data</th>\n",
       "      <th>tipo</th>\n",
       "      <th>peso</th>\n",
       "      <th>preco</th>\n",
       "      <th>quant_vendas</th>\n",
       "    </tr>\n",
       "  </thead>\n",
       "  <tbody>\n",
       "    <tr>\n",
       "      <th>0</th>\n",
       "      <td>2015-01-05</td>\n",
       "      <td>comum</td>\n",
       "      <td>30.0</td>\n",
       "      <td>108.0</td>\n",
       "      <td>20</td>\n",
       "    </tr>\n",
       "    <tr>\n",
       "      <th>1</th>\n",
       "      <td>2015-01-06</td>\n",
       "      <td>comum</td>\n",
       "      <td>30.0</td>\n",
       "      <td>108.0</td>\n",
       "      <td>20</td>\n",
       "    </tr>\n",
       "    <tr>\n",
       "      <th>2</th>\n",
       "      <td>2015-01-07</td>\n",
       "      <td>comum</td>\n",
       "      <td>30.0</td>\n",
       "      <td>108.0</td>\n",
       "      <td>20</td>\n",
       "    </tr>\n",
       "    <tr>\n",
       "      <th>3</th>\n",
       "      <td>2015-01-08</td>\n",
       "      <td>comum</td>\n",
       "      <td>30.0</td>\n",
       "      <td>108.0</td>\n",
       "      <td>20</td>\n",
       "    </tr>\n",
       "    <tr>\n",
       "      <th>4</th>\n",
       "      <td>2015-01-09</td>\n",
       "      <td>comum</td>\n",
       "      <td>30.0</td>\n",
       "      <td>108.0</td>\n",
       "      <td>20</td>\n",
       "    </tr>\n",
       "  </tbody>\n",
       "</table>\n",
       "</div>"
      ],
      "text/plain": [
       "        data   tipo  peso  preco  quant_vendas\n",
       "0 2015-01-05  comum  30.0  108.0            20\n",
       "1 2015-01-06  comum  30.0  108.0            20\n",
       "2 2015-01-07  comum  30.0  108.0            20\n",
       "3 2015-01-08  comum  30.0  108.0            20\n",
       "4 2015-01-09  comum  30.0  108.0            20"
      ]
     },
     "execution_count": 634,
     "metadata": {},
     "output_type": "execute_result"
    }
   ],
   "source": [
    "# Verificando as 5 primeiras linhas do dataframe\n",
    "df.head()"
   ]
  },
  {
   "cell_type": "code",
   "execution_count": 635,
   "id": "930c5e99-2b1a-4b91-8847-5040b1712769",
   "metadata": {},
   "outputs": [
    {
     "data": {
      "text/plain": [
       "array([108.,  45., 135., 111.,  50.,  47.,  70.,  62.,  60., 141., 105.,\n",
       "       145., 150., 165., 172.,  40., 180., 202., 300.,  90.,  99.,  82.,\n",
       "       520.,  52.,  97., 132., 124., 133., 147., 120.,  25.,  93., 100.,\n",
       "       102.,   1., 154., 247., 112., 114., 155.,  75., 127., 250., 225.,\n",
       "       255., 270., 285., 210., 122., 130., 195., 170., 110., 187., 240.,\n",
       "        80.,  36.])"
      ]
     },
     "execution_count": 635,
     "metadata": {},
     "output_type": "execute_result"
    }
   ],
   "source": [
    "# Verificando os valores únicos de preço\n",
    "df['preco'].unique()"
   ]
  },
  {
   "cell_type": "code",
   "execution_count": 636,
   "id": "f308905e-9c3b-4c5a-a858-5da57e28d085",
   "metadata": {},
   "outputs": [
    {
     "name": "stdout",
     "output_type": "stream",
     "text": [
      "    tipo  receita_total\n",
      "0  comum      4166500.0\n",
      "1  hawai          720.0\n",
      "2  medio      1129940.0\n"
     ]
    }
   ],
   "source": [
    "# Para cada tipo de abacate, vamos calcular a receita total gerada, através da fórmula:\n",
    "# Receita = Preco x quantidade vendida\n",
    "\n",
    "# Calcular a receita  (R$)\n",
    "df['receita'] = df['preco'] * df['quant_vendas']\n",
    "\n",
    "# Calcular a receita total por tipo\n",
    "receita_total_por_tipo = df.groupby('tipo')['receita'].sum().reset_index()\n",
    "\n",
    "# Renomear a coluna para mais clareza\n",
    "receita_total_por_tipo.columns = ['tipo', 'receita_total']\n",
    "\n",
    "# Exibir os resultados\n",
    "print(receita_total_por_tipo)"
   ]
  },
  {
   "cell_type": "code",
   "execution_count": 637,
   "id": "e63e1388-19a1-427b-aa93-0617bc3c19f7",
   "metadata": {},
   "outputs": [
    {
     "data": {
      "text/html": [
       "<div>\n",
       "<style scoped>\n",
       "    .dataframe tbody tr th:only-of-type {\n",
       "        vertical-align: middle;\n",
       "    }\n",
       "\n",
       "    .dataframe tbody tr th {\n",
       "        vertical-align: top;\n",
       "    }\n",
       "\n",
       "    .dataframe thead th {\n",
       "        text-align: right;\n",
       "    }\n",
       "</style>\n",
       "<table border=\"1\" class=\"dataframe\">\n",
       "  <thead>\n",
       "    <tr style=\"text-align: right;\">\n",
       "      <th></th>\n",
       "      <th>data</th>\n",
       "      <th>tipo</th>\n",
       "      <th>peso</th>\n",
       "      <th>preco</th>\n",
       "      <th>quant_vendas</th>\n",
       "      <th>receita</th>\n",
       "      <th>preco_por_peso</th>\n",
       "    </tr>\n",
       "  </thead>\n",
       "  <tbody>\n",
       "    <tr>\n",
       "      <th>0</th>\n",
       "      <td>2015-01-05</td>\n",
       "      <td>comum</td>\n",
       "      <td>30.0</td>\n",
       "      <td>108.0</td>\n",
       "      <td>20</td>\n",
       "      <td>2160.0</td>\n",
       "      <td>3.6</td>\n",
       "    </tr>\n",
       "    <tr>\n",
       "      <th>1</th>\n",
       "      <td>2015-01-06</td>\n",
       "      <td>comum</td>\n",
       "      <td>30.0</td>\n",
       "      <td>108.0</td>\n",
       "      <td>20</td>\n",
       "      <td>2160.0</td>\n",
       "      <td>3.6</td>\n",
       "    </tr>\n",
       "    <tr>\n",
       "      <th>2</th>\n",
       "      <td>2015-01-07</td>\n",
       "      <td>comum</td>\n",
       "      <td>30.0</td>\n",
       "      <td>108.0</td>\n",
       "      <td>20</td>\n",
       "      <td>2160.0</td>\n",
       "      <td>3.6</td>\n",
       "    </tr>\n",
       "    <tr>\n",
       "      <th>3</th>\n",
       "      <td>2015-01-08</td>\n",
       "      <td>comum</td>\n",
       "      <td>30.0</td>\n",
       "      <td>108.0</td>\n",
       "      <td>20</td>\n",
       "      <td>2160.0</td>\n",
       "      <td>3.6</td>\n",
       "    </tr>\n",
       "    <tr>\n",
       "      <th>4</th>\n",
       "      <td>2015-01-09</td>\n",
       "      <td>comum</td>\n",
       "      <td>30.0</td>\n",
       "      <td>108.0</td>\n",
       "      <td>20</td>\n",
       "      <td>2160.0</td>\n",
       "      <td>3.6</td>\n",
       "    </tr>\n",
       "  </tbody>\n",
       "</table>\n",
       "</div>"
      ],
      "text/plain": [
       "        data   tipo  peso  preco  quant_vendas  receita  preco_por_peso\n",
       "0 2015-01-05  comum  30.0  108.0            20   2160.0             3.6\n",
       "1 2015-01-06  comum  30.0  108.0            20   2160.0             3.6\n",
       "2 2015-01-07  comum  30.0  108.0            20   2160.0             3.6\n",
       "3 2015-01-08  comum  30.0  108.0            20   2160.0             3.6\n",
       "4 2015-01-09  comum  30.0  108.0            20   2160.0             3.6"
      ]
     },
     "execution_count": 637,
     "metadata": {},
     "output_type": "execute_result"
    }
   ],
   "source": [
    "# vamos criar a coluna preco/peso (R$/Kg)\n",
    "\n",
    "# Criar a nova coluna 'preco_por_peso'\n",
    "df['preco_por_peso'] = df['preco'] / df['peso']\n",
    "\n",
    "df.head()"
   ]
  },
  {
   "cell_type": "code",
   "execution_count": 638,
   "id": "f1482f5c-4396-4fd6-a339-1bc134895841",
   "metadata": {},
   "outputs": [],
   "source": [
    "#Custo real de produção dos abacates - adotado (R$/Kg)\n",
    "\n",
    "custo_prod_comum=2.5\n",
    "custo_prod_medio=2.8\n",
    "custo_prod_hawai=4.3"
   ]
  },
  {
   "cell_type": "code",
   "execution_count": 639,
   "id": "2cf1a83d-e20f-4ba4-9f2c-f4442264c599",
   "metadata": {},
   "outputs": [],
   "source": [
    "# Função para determinar o custo com base no tipo de abacate\n",
    "def calcular_custo(tipo):\n",
    "    if tipo == 'comum':\n",
    "        return 2.5\n",
    "    elif tipo == 'medio':\n",
    "        return 2.8\n",
    "    elif tipo == 'hawai':\n",
    "        return 4.3\n",
    "    else:\n",
    "        return 0  # Ou outro valor padrão\n",
    "\n",
    "# Criar a nova coluna 'custo_produto'\n",
    "df['custo_produto'] = df['tipo'].apply(calcular_custo)"
   ]
  },
  {
   "cell_type": "code",
   "execution_count": 640,
   "id": "672cda17-c8bc-4ad6-bf14-cd60821f6b27",
   "metadata": {},
   "outputs": [
    {
     "data": {
      "text/html": [
       "<div>\n",
       "<style scoped>\n",
       "    .dataframe tbody tr th:only-of-type {\n",
       "        vertical-align: middle;\n",
       "    }\n",
       "\n",
       "    .dataframe tbody tr th {\n",
       "        vertical-align: top;\n",
       "    }\n",
       "\n",
       "    .dataframe thead th {\n",
       "        text-align: right;\n",
       "    }\n",
       "</style>\n",
       "<table border=\"1\" class=\"dataframe\">\n",
       "  <thead>\n",
       "    <tr style=\"text-align: right;\">\n",
       "      <th></th>\n",
       "      <th>data</th>\n",
       "      <th>tipo</th>\n",
       "      <th>peso</th>\n",
       "      <th>preco</th>\n",
       "      <th>quant_vendas</th>\n",
       "      <th>receita</th>\n",
       "      <th>preco_por_peso</th>\n",
       "      <th>custo_produto</th>\n",
       "    </tr>\n",
       "  </thead>\n",
       "  <tbody>\n",
       "    <tr>\n",
       "      <th>0</th>\n",
       "      <td>2015-01-05</td>\n",
       "      <td>comum</td>\n",
       "      <td>30.0</td>\n",
       "      <td>108.0</td>\n",
       "      <td>20</td>\n",
       "      <td>2160.0</td>\n",
       "      <td>3.6</td>\n",
       "      <td>2.5</td>\n",
       "    </tr>\n",
       "    <tr>\n",
       "      <th>1</th>\n",
       "      <td>2015-01-06</td>\n",
       "      <td>comum</td>\n",
       "      <td>30.0</td>\n",
       "      <td>108.0</td>\n",
       "      <td>20</td>\n",
       "      <td>2160.0</td>\n",
       "      <td>3.6</td>\n",
       "      <td>2.5</td>\n",
       "    </tr>\n",
       "    <tr>\n",
       "      <th>2</th>\n",
       "      <td>2015-01-07</td>\n",
       "      <td>comum</td>\n",
       "      <td>30.0</td>\n",
       "      <td>108.0</td>\n",
       "      <td>20</td>\n",
       "      <td>2160.0</td>\n",
       "      <td>3.6</td>\n",
       "      <td>2.5</td>\n",
       "    </tr>\n",
       "    <tr>\n",
       "      <th>3</th>\n",
       "      <td>2015-01-08</td>\n",
       "      <td>comum</td>\n",
       "      <td>30.0</td>\n",
       "      <td>108.0</td>\n",
       "      <td>20</td>\n",
       "      <td>2160.0</td>\n",
       "      <td>3.6</td>\n",
       "      <td>2.5</td>\n",
       "    </tr>\n",
       "    <tr>\n",
       "      <th>4</th>\n",
       "      <td>2015-01-09</td>\n",
       "      <td>comum</td>\n",
       "      <td>30.0</td>\n",
       "      <td>108.0</td>\n",
       "      <td>20</td>\n",
       "      <td>2160.0</td>\n",
       "      <td>3.6</td>\n",
       "      <td>2.5</td>\n",
       "    </tr>\n",
       "  </tbody>\n",
       "</table>\n",
       "</div>"
      ],
      "text/plain": [
       "        data   tipo  peso  preco  quant_vendas  receita  preco_por_peso  \\\n",
       "0 2015-01-05  comum  30.0  108.0            20   2160.0             3.6   \n",
       "1 2015-01-06  comum  30.0  108.0            20   2160.0             3.6   \n",
       "2 2015-01-07  comum  30.0  108.0            20   2160.0             3.6   \n",
       "3 2015-01-08  comum  30.0  108.0            20   2160.0             3.6   \n",
       "4 2015-01-09  comum  30.0  108.0            20   2160.0             3.6   \n",
       "\n",
       "   custo_produto  \n",
       "0            2.5  \n",
       "1            2.5  \n",
       "2            2.5  \n",
       "3            2.5  \n",
       "4            2.5  "
      ]
     },
     "execution_count": 640,
     "metadata": {},
     "output_type": "execute_result"
    }
   ],
   "source": [
    "# Verificando as 5 primeiras linhas do dataframe\n",
    "df.head()"
   ]
  },
  {
   "cell_type": "code",
   "execution_count": 641,
   "id": "cf71a1dd-f238-42b8-ae66-5b262de1a7e6",
   "metadata": {},
   "outputs": [],
   "source": [
    "# Calcular o custo (R$)\n",
    "df['custo'] = df['custo_produto'] *df['peso'] * df['quant_vendas']"
   ]
  },
  {
   "cell_type": "code",
   "execution_count": 642,
   "id": "e7f2accd-4546-446d-8e3d-48a5d2e77ee4",
   "metadata": {},
   "outputs": [],
   "source": [
    "# Cálculo da Margem de Lucro\n",
    "# A margem de lucro pode ser calculada com a fórmula:\n",
    "# Margem de Lucro = (Receita-Custo)/Receita x 100 \n",
    "# Margem de lucro em %\n",
    "df['margem_de_lucro'] = ((df['receita'] - df['custo']) / df['receita']) * 100"
   ]
  },
  {
   "cell_type": "code",
   "execution_count": 643,
   "id": "28456c74-b949-446c-916e-de5d5bc3b3ee",
   "metadata": {},
   "outputs": [
    {
     "data": {
      "text/html": [
       "<div>\n",
       "<style scoped>\n",
       "    .dataframe tbody tr th:only-of-type {\n",
       "        vertical-align: middle;\n",
       "    }\n",
       "\n",
       "    .dataframe tbody tr th {\n",
       "        vertical-align: top;\n",
       "    }\n",
       "\n",
       "    .dataframe thead th {\n",
       "        text-align: right;\n",
       "    }\n",
       "</style>\n",
       "<table border=\"1\" class=\"dataframe\">\n",
       "  <thead>\n",
       "    <tr style=\"text-align: right;\">\n",
       "      <th></th>\n",
       "      <th>data</th>\n",
       "      <th>tipo</th>\n",
       "      <th>peso</th>\n",
       "      <th>preco</th>\n",
       "      <th>quant_vendas</th>\n",
       "      <th>receita</th>\n",
       "      <th>preco_por_peso</th>\n",
       "      <th>custo_produto</th>\n",
       "      <th>custo</th>\n",
       "      <th>margem_de_lucro</th>\n",
       "    </tr>\n",
       "  </thead>\n",
       "  <tbody>\n",
       "    <tr>\n",
       "      <th>0</th>\n",
       "      <td>2015-01-05</td>\n",
       "      <td>comum</td>\n",
       "      <td>30.0</td>\n",
       "      <td>108.0</td>\n",
       "      <td>20</td>\n",
       "      <td>2160.0</td>\n",
       "      <td>3.6</td>\n",
       "      <td>2.5</td>\n",
       "      <td>1500.0</td>\n",
       "      <td>30.555556</td>\n",
       "    </tr>\n",
       "    <tr>\n",
       "      <th>1</th>\n",
       "      <td>2015-01-06</td>\n",
       "      <td>comum</td>\n",
       "      <td>30.0</td>\n",
       "      <td>108.0</td>\n",
       "      <td>20</td>\n",
       "      <td>2160.0</td>\n",
       "      <td>3.6</td>\n",
       "      <td>2.5</td>\n",
       "      <td>1500.0</td>\n",
       "      <td>30.555556</td>\n",
       "    </tr>\n",
       "    <tr>\n",
       "      <th>2</th>\n",
       "      <td>2015-01-07</td>\n",
       "      <td>comum</td>\n",
       "      <td>30.0</td>\n",
       "      <td>108.0</td>\n",
       "      <td>20</td>\n",
       "      <td>2160.0</td>\n",
       "      <td>3.6</td>\n",
       "      <td>2.5</td>\n",
       "      <td>1500.0</td>\n",
       "      <td>30.555556</td>\n",
       "    </tr>\n",
       "    <tr>\n",
       "      <th>3</th>\n",
       "      <td>2015-01-08</td>\n",
       "      <td>comum</td>\n",
       "      <td>30.0</td>\n",
       "      <td>108.0</td>\n",
       "      <td>20</td>\n",
       "      <td>2160.0</td>\n",
       "      <td>3.6</td>\n",
       "      <td>2.5</td>\n",
       "      <td>1500.0</td>\n",
       "      <td>30.555556</td>\n",
       "    </tr>\n",
       "    <tr>\n",
       "      <th>4</th>\n",
       "      <td>2015-01-09</td>\n",
       "      <td>comum</td>\n",
       "      <td>30.0</td>\n",
       "      <td>108.0</td>\n",
       "      <td>20</td>\n",
       "      <td>2160.0</td>\n",
       "      <td>3.6</td>\n",
       "      <td>2.5</td>\n",
       "      <td>1500.0</td>\n",
       "      <td>30.555556</td>\n",
       "    </tr>\n",
       "  </tbody>\n",
       "</table>\n",
       "</div>"
      ],
      "text/plain": [
       "        data   tipo  peso  preco  quant_vendas  receita  preco_por_peso  \\\n",
       "0 2015-01-05  comum  30.0  108.0            20   2160.0             3.6   \n",
       "1 2015-01-06  comum  30.0  108.0            20   2160.0             3.6   \n",
       "2 2015-01-07  comum  30.0  108.0            20   2160.0             3.6   \n",
       "3 2015-01-08  comum  30.0  108.0            20   2160.0             3.6   \n",
       "4 2015-01-09  comum  30.0  108.0            20   2160.0             3.6   \n",
       "\n",
       "   custo_produto   custo  margem_de_lucro  \n",
       "0            2.5  1500.0        30.555556  \n",
       "1            2.5  1500.0        30.555556  \n",
       "2            2.5  1500.0        30.555556  \n",
       "3            2.5  1500.0        30.555556  \n",
       "4            2.5  1500.0        30.555556  "
      ]
     },
     "execution_count": 643,
     "metadata": {},
     "output_type": "execute_result"
    }
   ],
   "source": [
    "# Verificando as 5 primeiras linhas do dataframe\n",
    "df.head()"
   ]
  },
  {
   "cell_type": "markdown",
   "id": "21b518be-1720-4a29-b62d-2dd908b1065e",
   "metadata": {},
   "source": [
    "## 7.2 - Análise da margem de lucro"
   ]
  },
  {
   "cell_type": "code",
   "execution_count": 644,
   "id": "89af5fda-49b9-4c82-8b05-a530e02ad7c3",
   "metadata": {},
   "outputs": [
    {
     "name": "stdout",
     "output_type": "stream",
     "text": [
      "A margem de lucro médio do abacate comum é -66.89%, do abacate médio é 3.02% e do abacate hawai é 16.39%.\n"
     ]
    }
   ],
   "source": [
    "# Vamos comparar as margens de lucro entre os tipos de abacate.\n",
    "# Calcular a magem de lucro médio para cada tipo de abacate\n",
    "margem_lucro_comum = df[df['tipo'] == 'comum']['margem_de_lucro'].mean()\n",
    "margem_lucro_medio = df[df['tipo'] == 'medio']['margem_de_lucro'].mean()\n",
    "margem_lucro_hawai = df[df['tipo'] == 'hawai']['margem_de_lucro'].mean()\n",
    "print(f'A margem de lucro médio do abacate comum é {margem_lucro_comum:.2f}%, do abacate médio é {margem_lucro_medio:.2f}% e do abacate hawai é {margem_lucro_hawai:.2f}%.')"
   ]
  },
  {
   "cell_type": "code",
   "execution_count": 647,
   "id": "a42b6181-6a4f-4ba1-b2ba-cff21e5ff4d7",
   "metadata": {},
   "outputs": [
    {
     "data": {
      "image/png": "[encoded data removed]",
      "text/plain": [
       "<Figure size 1000x600 with 2 Axes>"
      ]
     },
     "metadata": {},
     "output_type": "display_data"
    },
    {
     "name": "stdout",
     "output_type": "stream",
     "text": [
      "    tipo  receita_total  margem_lucro_media\n",
      "0  comum       208325.0          -66.888064\n",
      "1  hawai           36.0           16.388889\n",
      "2  medio        56497.0            3.016893\n"
     ]
    }
   ],
   "source": [
    "# Vamos criar gráfico e tabela que apresentem claramente as margens de lucro e receitas de cada tipo de abacate\n",
    "# Agrupar os dados por tipo de abacate e calcular a receita total e a margem de lucro média\n",
    "resultado = df.groupby('tipo').agg(\n",
    "    receita_total=('preco', 'sum'),\n",
    "    margem_lucro_media=('margem_de_lucro', 'mean')\n",
    ").reset_index()\n",
    "\n",
    "# Configurar o gráfico\n",
    "fig, ax1 = plt.subplots(figsize=(10, 6))\n",
    "\n",
    "# Criar um gráfico de barras para a receita total\n",
    "ax1.bar(resultado['tipo'], resultado['receita_total'], color='b', alpha=0.6, label='Receita Total', width=0.4, align='center')\n",
    "\n",
    "# Criar um segundo eixo y para a margem de lucro\n",
    "ax2 = ax1.twinx()\n",
    "ax2.plot(resultado['tipo'], resultado['margem_lucro_media'], color='r', marker='o', label='Margem de Lucro Média', linewidth=2)\n",
    "\n",
    "# Configurar os rótulos e título\n",
    "ax1.set_xlabel('Tipo de Abacate')\n",
    "ax1.set_ylabel('Receita Total (R$)', color='b')\n",
    "ax2.set_ylabel('Margem de Lucro Média (R$)', color='r')\n",
    "ax1.set_title('Receitas e Margens de Lucro por Tipo de Abacate')\n",
    "\n",
    "# Adicionar legendas\n",
    "ax1.legend(loc='upper left')\n",
    "ax2.legend(loc='upper right')\n",
    "\n",
    "# Exibir o gráfico\n",
    "plt.show()\n",
    "\n",
    "# Exibir a tabela de resultados\n",
    "print(resultado)"
   ]
  },
  {
   "cell_type": "code",
   "execution_count": null,
   "id": "09602509-8b81-4957-90e7-12a7e46a75c7",
   "metadata": {},
   "outputs": [],
   "source": [
    "# Apesar do abacate comum ter gerado mais receita foi o que deu mais prejuízo."
   ]
  },
  {
   "cell_type": "markdown",
   "id": "edb178c7-9703-45c0-8efc-447f8bc03d30",
   "metadata": {},
   "source": [
    "## 7.3 - Ajuste da estratégia de precificação"
   ]
  },
  {
   "cell_type": "code",
   "execution_count": null,
   "id": "afd42f38-fc7b-4f06-a791-098933b559bc",
   "metadata": {},
   "outputs": [],
   "source": [
    "# Ajustes na Estratégia de Precificação\n",
    "# O abacate comum sofreu muito com a pandemia de tal forma que houve prejuízo, o abacate médio teve pouquíssimo retorno \n",
    "# e o abacate hawai poderia ter até uma pequena promoção\n",
    "# Assim, o preço do abacate comum deverá ser aumentado significamente para reaver valores perdidos nos anos de pandemia.\n",
    "\n",
    "# Algumas formas de mudança de precificação:\n",
    "\n",
    "# 1 - Análise de Custos\n",
    "# Revisão de Custos: Avalie se os custos de produção ou aquisição dos abacates estão excessivos. \n",
    "# Se o custo do abacate comum é elevado, considere renegociar com fornecedores ou buscar alternativas mais baratas.\n",
    "\n",
    "#2. Ajuste de Preços\n",
    "# Aumentar Preços em Produtos com Margem Negativa: Para o tipo de abacate comum, onde a margem de lucro é negativa, avalie a possibilidade de \n",
    "# aumentar o preço. Use a análise de preço da concorrência para definir um preço mais competitivo.\n",
    "# Promoções e Descontos: Para o abacate médio e hawai, que apresentam margens positivas, considere estratégias de promoção para aumentar as vendas, \n",
    "# mas não comprometa a margem de lucro.\n",
    "\n",
    "#3. Segmentação de Mercado\n",
    "# Identificação de Clientes: Analise os segmentos de clientes que mais compram cada tipo de abacate. \n",
    "# É possível que o preço atual esteja desalinhado com o que o mercado está disposto a pagar.\n",
    "# Diferenciação do Produto: Se possível, crie um diferencial para o abacate comum, como a certificação orgânica, que pode justificar um preço mais alto.\n",
    "\n",
    "#4. Ajuste de Quantidade Vendida\n",
    "# Aumentar Volume de Vendas: Para produtos com margens menores, considere campanhas de marketing para aumentar o volume de vendas, \n",
    "# diluindo assim os custos fixos e aumentando a receita total.\n",
    "\n",
    "#5. Análise de Elasticidade de Preço\n",
    "# Estudo de Sensibilidade ao Preço: Realize pesquisas para entender a sensibilidade dos clientes a mudanças de preços. \n",
    "#Isso ajudará a determinar o impacto de um aumento de preço nas vendas.\n",
    "\n",
    "#6. Análise de Preço por Canal de Venda\n",
    "# Revisão de Canais de Distribuição: Avalie se os canais de venda (por exemplo, vendas diretas, supermercados, feiras) estão impactando a margem. \n",
    "# Às vezes, mudar o canal pode resultar em margens melhores.\n",
    "\n",
    "#7. Projeções e Cenários\n",
    "# Modelagem de Cenários: Crie projeções com diferentes cenários de preços e volumes de vendas para entender melhor como essas mudanças podem afetar a \n",
    "# margem de lucro futura.\n",
    "\n",
    "#8. Feedback do Cliente\n",
    "# Coleta de Feedback: Obtenha feedback dos clientes sobre os preços e a qualidade dos produtos. \n",
    "# O que eles estão dispostos a pagar? Isso pode oferecer insights valiosos para ajustes."
   ]
  },
  {
   "cell_type": "markdown",
   "id": "819f2e3c-2fe2-40e3-a485-227120e1eb05",
   "metadata": {},
   "source": [
    "## Conclusão\n",
    "## Implementar uma ou várias dessas estratégias pode ajudar a melhorar a rentabilidade dos produtos, especialmente para o abacate comum. É importante monitorar as mudanças continuamente e ajustar as estratégias conforme necessário."
   ]
  }
 ],
 "metadata": {
  "kernelspec": {
   "display_name": "Python 3 (ipykernel)",
   "language": "python",
   "name": "python3"
  },
  "language_info": {
   "codemirror_mode": {
    "name": "ipython",
    "version": 3
   },
   "file_extension": ".py",
   "mimetype": "text/x-python",
   "name": "python",
   "nbconvert_exporter": "python",
   "pygments_lexer": "ipython3",
   "version": "3.12.4"
  }
 },
 "nbformat": 4,
 "nbformat_minor": 5
}
