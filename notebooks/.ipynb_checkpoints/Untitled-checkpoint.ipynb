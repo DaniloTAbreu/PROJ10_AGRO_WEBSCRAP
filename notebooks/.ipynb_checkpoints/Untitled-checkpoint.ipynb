{
 "cells": [
  {
   "cell_type": "code",
   "execution_count": null,
   "id": "1f2d0334-bc87-47da-ba64-e3d5c3095a49",
   "metadata": {},
   "outputs": [],
   "source": [
    "# Imports\n",
    "import sqlite3\n",
    "import pandas as pd\n",
    "\n",
    "def load_from_db(db_name='database_agro.db'):\n",
    "    try:\n",
    "        # Conectar ao banco de dados\n",
    "        with sqlite3.connect(db_name) as conn:\n",
    "            # Ler a tabela como um DataFrame\n",
    "            query = 'SELECT * FROM database_agro'  \n",
    "            df = pd.read_sql(query, conn)\n",
    "            print(\"Dados carregados do banco de dados com sucesso.\")\n",
    "    except sqlite3.Error as e:\n",
    "        print(f\"Erro ao conectar ao banco de dados: {e}\")\n",
    "        df = pd.DataFrame()  # Retorna um DataFrame vazio em caso de erro\n",
    "    return df\n",
    "\n",
    "# Exemplo de uso\n",
    "if __name__ == \"__main__\":\n",
    "    # Carregar os dados do banco de dados\n",
    "    df = load_from_db()\n",
    "    print(df.head())"
   ]
  }
 ],
 "metadata": {
  "kernelspec": {
   "display_name": "Python 3 (ipykernel)",
   "language": "python",
   "name": "python3"
  },
  "language_info": {
   "codemirror_mode": {
    "name": "ipython",
    "version": 3
   },
   "file_extension": ".py",
   "mimetype": "text/x-python",
   "name": "python",
   "nbconvert_exporter": "python",
   "pygments_lexer": "ipython3",
   "version": "3.12.4"
  }
 },
 "nbformat": 4,
 "nbformat_minor": 5
}
