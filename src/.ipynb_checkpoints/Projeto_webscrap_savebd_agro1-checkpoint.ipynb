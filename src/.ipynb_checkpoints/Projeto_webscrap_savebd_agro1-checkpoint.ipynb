{
 "cells": [
  {
   "cell_type": "markdown",
   "metadata": {},
   "source": [
    "# Problema de extração e análise de dados"
   ]
  },
  {
   "cell_type": "markdown",
   "metadata": {},
   "source": [
    "# 1 - Definindo o problema de negócio"
   ]
  },
  {
   "cell_type": "markdown",
   "metadata": {},
   "source": [
    "### Obter dados dos xxxxx na página web https://www.agrolink.com.br/cotacoes/graos/milho e fazer uma análise de dados"
   ]
  },
  {
   "cell_type": "markdown",
   "metadata": {},
   "source": [
    "# 2 - Decisões"
   ]
  },
  {
   "cell_type": "markdown",
   "metadata": {},
   "source": [
    "### O problema de negócio já informa que é requerido um webscrapping. Utilizaremos o pacote BeautifulSoup para fazer a extração dos dados. Após a limpeza dos dados, faremos gráficos e estatísticas utilizando pacotes básicos do python."
   ]
  },
  {
   "cell_type": "markdown",
   "metadata": {},
   "source": [
    "# 3 - Versão python e import dos pacotes utilizados"
   ]
  },
  {
   "cell_type": "code",
   "execution_count": 1,
   "metadata": {},
   "outputs": [
    {
     "name": "stdout",
     "output_type": "stream",
     "text": [
      "Versão da Linguagem Python Usada Neste Jupyter Notebook: 3.12.4\n"
     ]
    }
   ],
   "source": [
    "# Versão da Linguagem Python\n",
    "from platform import python_version\n",
    "print('Versão da Linguagem Python Usada Neste Jupyter Notebook:', python_version())"
   ]
  },
  {
   "cell_type": "code",
   "execution_count": 2,
   "metadata": {},
   "outputs": [],
   "source": [
    "# Para atualizar um pacote, execute o comando abaixo no terminal ou prompt de comando:\n",
    "# pip install -U nome_pacote\n",
    "\n",
    "# Para instalar a versão exata de um pacote, execute o comando abaixo no terminal ou prompt de comando:\n",
    "#!pip install nome_pacote==versão_desejada\n",
    "\n",
    "# Depois de instalar ou atualizar o pacote, reinicie o jupyter notebook.\n",
    "\n",
    "# Instala o pacote watermark. \n",
    "# Esse pacote é usado para gravar as versões de outros pacotes usados neste jupyter notebook.\n",
    "#!pip install -q -U watermark"
   ]
  },
  {
   "cell_type": "code",
   "execution_count": 12,
   "metadata": {},
   "outputs": [],
   "source": [
    "# Imports\n",
    "import numpy as np\n",
    "import pandas as pd\n",
    "import matplotlib.pyplot as plt\n",
    "import seaborn as sns\n",
    "import re\n",
    "sns.set_style('whitegrid')\n",
    "from bs4 import BeautifulSoup\n",
    "from tqdm import tqdm\n",
    "from sqlalchemy import create_engine, text\n",
    "import requests\n",
    "import warnings\n",
    "warnings.filterwarnings(\"ignore\", category=FutureWarning)"
   ]
  },
  {
   "cell_type": "code",
   "execution_count": 4,
   "metadata": {},
   "outputs": [
    {
     "name": "stdout",
     "output_type": "stream",
     "text": [
      "Author: Danilo Temerloglou de Abreu\n",
      "\n",
      "numpy     : 1.26.4\n",
      "matplotlib: 3.8.4\n",
      "requests  : 2.32.2\n",
      "pandas    : 2.2.2\n",
      "re        : 2.2.1\n",
      "seaborn   : 0.13.2\n",
      "\n"
     ]
    }
   ],
   "source": [
    "# Versões dos pacotes usados neste jupyter notebook\n",
    "%reload_ext watermark\n",
    "%watermark -a \"Danilo Temerloglou de Abreu\" --iversions"
   ]
  },
  {
   "cell_type": "markdown",
   "metadata": {},
   "source": [
    "# 4 - Webscrapping dos dados"
   ]
  },
  {
   "cell_type": "code",
   "execution_count": 5,
   "metadata": {},
   "outputs": [],
   "source": [
    "def get_content(site):\n",
    "    resp = requests.get(site)\n",
    "    return resp.text\n",
    "\n",
    "# URL do site que você deseja acessar\n",
    "site = \"http://www.seagri.ba.gov.br/cotacao?page=26&produto=&praca=&tipo=&data_inicio=01/08/2016&data_final=26/08/2016\"\n",
    "\n",
    "# Chamada para obter o conteúdo da página\n",
    "conteudo_pagina = get_content(site)"
   ]
  },
  {
   "cell_type": "code",
   "execution_count": 6,
   "metadata": {},
   "outputs": [
    {
     "data": {
      "text/plain": [
       "<tr class=\"odd\"><td class=\"active\">05/08/2016</td><td>Feijão</td><td>ADUSTINA</td><td>Carioca</td><td>sc 60 kg</td><td>R$ 450,00</td> </tr>"
      ]
     },
     "execution_count": 6,
     "metadata": {},
     "output_type": "execute_result"
    }
   ],
   "source": [
    "soup2 = BeautifulSoup(conteudo_pagina, 'html.parser')\n",
    "div_page = soup2.find(\"tr\", class_ =\"odd\")\n",
    "div_page"
   ]
  },
  {
   "cell_type": "code",
   "execution_count": 7,
   "metadata": {},
   "outputs": [
    {
     "name": "stdout",
     "output_type": "stream",
     "text": [
      "Data: 05/08/2016\n",
      "Produto: Feijão\n",
      "Município: ADUSTINA\n",
      "Tipo: Carioca\n",
      "Peso: sc 60 kg\n",
      "Preco: R$ 450,00\n"
     ]
    }
   ],
   "source": [
    "# Supondo que você já tenha 'conteudo_pagina' definido como o HTML da página\n",
    "soup2 = BeautifulSoup(conteudo_pagina, 'html.parser')\n",
    "\n",
    "# Encontrar a linha desejada\n",
    "div_page = soup2.find(\"tr\", class_=\"odd\")\n",
    "\n",
    "# Extrair os dados específicos\n",
    "data = div_page.find(\"td\", class_=\"active\").text.strip()\n",
    "produto = div_page.find_all(\"td\")[1].text.strip()\n",
    "municipio = div_page.find_all(\"td\")[2].text.strip()\n",
    "tipo = div_page.find_all(\"td\")[3].text.strip()\n",
    "peso = div_page.find_all(\"td\")[4].text.strip()\n",
    "preco = div_page.find_all(\"td\")[5].text.strip()\n",
    "\n",
    "# Exibir os resultados\n",
    "print(f\"Data: {data}\")\n",
    "print(f\"Produto: {produto}\")\n",
    "print(f\"Município: {municipio}\")\n",
    "print(f\"Tipo: {tipo}\")\n",
    "print(f\"Peso: {peso}\")\n",
    "print(f\"Preco: {preco}\")"
   ]
  },
  {
   "cell_type": "code",
   "execution_count": 9,
   "metadata": {},
   "outputs": [
    {
     "name": "stdout",
     "output_type": "stream",
     "text": [
      "Data: 05/08/2016\n",
      "Produto: Feijão\n",
      "Município: ADUSTINA\n",
      "Tipo: Carioca\n",
      "Peso: sc 60 kg\n",
      "Preco: R$ 450,00\n",
      "\n",
      "Data: 05/08/2016\n",
      "Produto: Feijão\n",
      "Município: RIBEIRA DO POMBAL\n",
      "Tipo: Carioca\n",
      "Peso: sc 60 kg\n",
      "Preco: R$ 510,00\n",
      "\n",
      "Data: 05/08/2016\n",
      "Produto: Feijão\n",
      "Município: IRECE\n",
      "Tipo: Mulato\n",
      "Peso: sc 60 kg\n",
      "Preco: sem cotação\n",
      "\n",
      "Data: 08/08/2016\n",
      "Produto: Feijão\n",
      "Município: IRECE\n",
      "Tipo: Carioca\n",
      "Peso: sc 60 kg\n",
      "Preco: R$ 480,00\n",
      "\n",
      "Data: 08/08/2016\n",
      "Produto: Feijão\n",
      "Município: TUCANO\n",
      "Tipo: Carioca\n",
      "Peso: sc 60 kg\n",
      "Preco: R$ 480,00\n",
      "\n",
      "Data: 09/08/2016\n",
      "Produto: Feijão\n",
      "Município: ADUSTINA\n",
      "Tipo: Carioca\n",
      "Peso: sc 60 kg\n",
      "Preco: R$ 450,00\n",
      "\n",
      "Data: 09/08/2016\n",
      "Produto: Feijão\n",
      "Município: RIBEIRA DO POMBAL\n",
      "Tipo: Carioca\n",
      "Peso: sc 60 kg\n",
      "Preco: R$ 510,00\n",
      "\n",
      "Data: 09/08/2016\n",
      "Produto: Feijão\n",
      "Município: IRECE\n",
      "Tipo: Mulato\n",
      "Peso: sc 60 kg\n",
      "Preco: sem cotação\n",
      "\n",
      "Data: 10/08/2016\n",
      "Produto: Feijão\n",
      "Município: IRECE\n",
      "Tipo: Carioca\n",
      "Peso: sc 60 kg\n",
      "Preco: R$ 480,00\n",
      "\n",
      "Data: 10/08/2016\n",
      "Produto: Feijão\n",
      "Município: TUCANO\n",
      "Tipo: Carioca\n",
      "Peso: sc 60 kg\n",
      "Preco: R$ 480,00\n",
      "\n",
      "Data: 11/08/2016\n",
      "Produto: Feijão\n",
      "Município: ADUSTINA\n",
      "Tipo: Carioca\n",
      "Peso: sc 60 kg\n",
      "Preco: R$ 300,00\n",
      "\n",
      "Data: 11/08/2016\n",
      "Produto: Feijão\n",
      "Município: RIBEIRA DO POMBAL\n",
      "Tipo: Carioca\n",
      "Peso: sc 60 kg\n",
      "Preco: R$ 510,00\n",
      "\n",
      "Data: 11/08/2016\n",
      "Produto: Feijão\n",
      "Município: IRECE\n",
      "Tipo: Mulato\n",
      "Peso: sc 60 kg\n",
      "Preco: sem cotação\n",
      "\n",
      "Data: 12/08/2016\n",
      "Produto: Feijão\n",
      "Município: IRECE\n",
      "Tipo: Carioca\n",
      "Peso: sc 60 kg\n",
      "Preco: R$ 480,00\n",
      "\n",
      "Data: 12/08/2016\n",
      "Produto: Feijão\n",
      "Município: TUCANO\n",
      "Tipo: Carioca\n",
      "Peso: sc 60 kg\n",
      "Preco: R$ 450,00\n",
      "\n",
      "Data: 05/08/2016\n",
      "Produto: Feijão\n",
      "Município: IRECE\n",
      "Tipo: Carioca\n",
      "Peso: sc 60 kg\n",
      "Preco: R$ 480,00\n",
      "\n",
      "Data: 05/08/2016\n",
      "Produto: Feijão\n",
      "Município: TUCANO\n",
      "Tipo: Carioca\n",
      "Peso: sc 60 kg\n",
      "Preco: R$ 480,00\n",
      "\n",
      "Data: 08/08/2016\n",
      "Produto: Feijão\n",
      "Município: ADUSTINA\n",
      "Tipo: Carioca\n",
      "Peso: sc 60 kg\n",
      "Preco: R$ 450,00\n",
      "\n",
      "Data: 08/08/2016\n",
      "Produto: Feijão\n",
      "Município: RIBEIRA DO POMBAL\n",
      "Tipo: Carioca\n",
      "Peso: sc 60 kg\n",
      "Preco: R$ 510,00\n",
      "\n",
      "Data: 08/08/2016\n",
      "Produto: Feijão\n",
      "Município: IRECE\n",
      "Tipo: Mulato\n",
      "Peso: sc 60 kg\n",
      "Preco: sem cotação\n",
      "\n",
      "Data: 09/08/2016\n",
      "Produto: Feijão\n",
      "Município: IRECE\n",
      "Tipo: Carioca\n",
      "Peso: sc 60 kg\n",
      "Preco: R$ 480,00\n",
      "\n",
      "Data: 09/08/2016\n",
      "Produto: Feijão\n",
      "Município: TUCANO\n",
      "Tipo: Carioca\n",
      "Peso: sc 60 kg\n",
      "Preco: R$ 480,00\n",
      "\n",
      "Data: 10/08/2016\n",
      "Produto: Feijão\n",
      "Município: ADUSTINA\n",
      "Tipo: Carioca\n",
      "Peso: sc 60 kg\n",
      "Preco: R$ 450,00\n",
      "\n",
      "Data: 10/08/2016\n",
      "Produto: Feijão\n",
      "Município: RIBEIRA DO POMBAL\n",
      "Tipo: Carioca\n",
      "Peso: sc 60 kg\n",
      "Preco: R$ 510,00\n",
      "\n",
      "Data: 10/08/2016\n",
      "Produto: Feijão\n",
      "Município: IRECE\n",
      "Tipo: Mulato\n",
      "Peso: sc 60 kg\n",
      "Preco: sem cotação\n",
      "\n",
      "Data: 11/08/2016\n",
      "Produto: Feijão\n",
      "Município: IRECE\n",
      "Tipo: Carioca\n",
      "Peso: sc 60 kg\n",
      "Preco: R$ 480,00\n",
      "\n",
      "Data: 11/08/2016\n",
      "Produto: Feijão\n",
      "Município: TUCANO\n",
      "Tipo: Carioca\n",
      "Peso: sc 60 kg\n",
      "Preco: R$ 450,00\n",
      "\n",
      "Data: 12/08/2016\n",
      "Produto: Feijão\n",
      "Município: ADUSTINA\n",
      "Tipo: Carioca\n",
      "Peso: sc 60 kg\n",
      "Preco: R$ 300,00\n",
      "\n",
      "Data: 12/08/2016\n",
      "Produto: Feijão\n",
      "Município: RIBEIRA DO POMBAL\n",
      "Tipo: Carioca\n",
      "Peso: sc 60 kg\n",
      "Preco: R$ 510,00\n",
      "\n",
      "Data: 12/08/2016\n",
      "Produto: Feijão\n",
      "Município: IRECE\n",
      "Tipo: Mulato\n",
      "Peso: sc 60 kg\n",
      "Preco: sem cotação\n",
      "\n"
     ]
    }
   ],
   "source": [
    "# Suponha que 'conteudo_pagina' contenha o HTML da página\n",
    "\n",
    "soup2 = BeautifulSoup(conteudo_pagina, 'html.parser')\n",
    "\n",
    "# Encontrar todas as linhas com classes 'odd' e 'even'\n",
    "linhas_odd = soup2.find_all(\"tr\", class_=\"odd\")\n",
    "linhas_even = soup2.find_all(\"tr\", class_=\"even\")\n",
    "\n",
    "# Criar uma lista para armazenar todos os resultados\n",
    "resultados = []\n",
    "\n",
    "# Função para extrair os dados de uma linha e adicionar aos resultados\n",
    "def extrair_dados(linha):\n",
    "    data = linha.find(\"td\", class_=\"active\").text.strip()\n",
    "    produto = linha.find_all(\"td\")[1].text.strip()\n",
    "    municipio = linha.find_all(\"td\")[2].text.strip()\n",
    "    tipo = linha.find_all(\"td\")[3].text.strip()\n",
    "    peso = linha.find_all(\"td\")[4].text.strip()\n",
    "    preco = linha.find_all(\"td\")[5].text.strip()\n",
    "    return {\n",
    "        \"data\": data,\n",
    "        \"produto\": produto,\n",
    "        \"municipio\": municipio,\n",
    "        \"tipo\": tipo,\n",
    "        \"peso\": peso,\n",
    "        \"preco\": preco\n",
    "    }\n",
    "\n",
    "# Iterar sobre as linhas ímpares (odd) e adicionar os resultados\n",
    "for linha in linhas_odd:\n",
    "    resultados.append(extrair_dados(linha))\n",
    "\n",
    "# Iterar sobre as linhas pares (even) e adicionar os resultados\n",
    "for linha in linhas_even:\n",
    "    resultados.append(extrair_dados(linha))\n",
    "\n",
    "# Exibir os resultados\n",
    "for resultado in resultados:\n",
    "    print(f\"Data: {resultado['data']}\")\n",
    "    print(f\"Produto: {resultado['produto']}\")\n",
    "    print(f\"Município: {resultado['municipio']}\")\n",
    "    print(f\"Tipo: {resultado['tipo']}\")\n",
    "    print(f\"Peso: {resultado['peso']}\")\n",
    "    print(f\"Preco: {resultado['preco']}\")\n",
    "    print()  # linha em branco para separar cada conjunto de dados\n",
    "\n",
    "# Criando o DataFrame\n",
    "df = pd.DataFrame(resultados)"
   ]
  },
  {
   "cell_type": "code",
   "execution_count": 10,
   "metadata": {},
   "outputs": [
    {
     "data": {
      "text/html": [
       "<div>\n",
       "<style scoped>\n",
       "    .dataframe tbody tr th:only-of-type {\n",
       "        vertical-align: middle;\n",
       "    }\n",
       "\n",
       "    .dataframe tbody tr th {\n",
       "        vertical-align: top;\n",
       "    }\n",
       "\n",
       "    .dataframe thead th {\n",
       "        text-align: right;\n",
       "    }\n",
       "</style>\n",
       "<table border=\"1\" class=\"dataframe\">\n",
       "  <thead>\n",
       "    <tr style=\"text-align: right;\">\n",
       "      <th></th>\n",
       "      <th>data</th>\n",
       "      <th>produto</th>\n",
       "      <th>municipio</th>\n",
       "      <th>tipo</th>\n",
       "      <th>peso</th>\n",
       "      <th>preco</th>\n",
       "    </tr>\n",
       "  </thead>\n",
       "  <tbody>\n",
       "    <tr>\n",
       "      <th>16</th>\n",
       "      <td>05/08/2016</td>\n",
       "      <td>Feijão</td>\n",
       "      <td>TUCANO</td>\n",
       "      <td>Carioca</td>\n",
       "      <td>sc 60 kg</td>\n",
       "      <td>R$ 480,00</td>\n",
       "    </tr>\n",
       "    <tr>\n",
       "      <th>0</th>\n",
       "      <td>05/08/2016</td>\n",
       "      <td>Feijão</td>\n",
       "      <td>ADUSTINA</td>\n",
       "      <td>Carioca</td>\n",
       "      <td>sc 60 kg</td>\n",
       "      <td>R$ 450,00</td>\n",
       "    </tr>\n",
       "    <tr>\n",
       "      <th>28</th>\n",
       "      <td>12/08/2016</td>\n",
       "      <td>Feijão</td>\n",
       "      <td>RIBEIRA DO POMBAL</td>\n",
       "      <td>Carioca</td>\n",
       "      <td>sc 60 kg</td>\n",
       "      <td>R$ 510,00</td>\n",
       "    </tr>\n",
       "    <tr>\n",
       "      <th>12</th>\n",
       "      <td>11/08/2016</td>\n",
       "      <td>Feijão</td>\n",
       "      <td>IRECE</td>\n",
       "      <td>Mulato</td>\n",
       "      <td>sc 60 kg</td>\n",
       "      <td>sem cotação</td>\n",
       "    </tr>\n",
       "    <tr>\n",
       "      <th>24</th>\n",
       "      <td>10/08/2016</td>\n",
       "      <td>Feijão</td>\n",
       "      <td>IRECE</td>\n",
       "      <td>Mulato</td>\n",
       "      <td>sc 60 kg</td>\n",
       "      <td>sem cotação</td>\n",
       "    </tr>\n",
       "  </tbody>\n",
       "</table>\n",
       "</div>"
      ],
      "text/plain": [
       "          data produto          municipio     tipo      peso        preco\n",
       "16  05/08/2016  Feijão             TUCANO  Carioca  sc 60 kg    R$ 480,00\n",
       "0   05/08/2016  Feijão           ADUSTINA  Carioca  sc 60 kg    R$ 450,00\n",
       "28  12/08/2016  Feijão  RIBEIRA DO POMBAL  Carioca  sc 60 kg    R$ 510,00\n",
       "12  11/08/2016  Feijão              IRECE   Mulato  sc 60 kg  sem cotação\n",
       "24  10/08/2016  Feijão              IRECE   Mulato  sc 60 kg  sem cotação"
      ]
     },
     "execution_count": 10,
     "metadata": {},
     "output_type": "execute_result"
    }
   ],
   "source": [
    "# Exibindo uma amostra do DataFrame\n",
    "df.sample(5)"
   ]
  },
  {
   "cell_type": "markdown",
   "metadata": {},
   "source": [
    "# 5 - Salvar dados num banco de dados com imagem docker"
   ]
  },
  {
   "cell_type": "code",
   "execution_count": 19,
   "metadata": {},
   "outputs": [],
   "source": [
    "# Defina a URL de conexão para SQLite\n",
    "db_url = 'sqlite:///database_agro.db'\n",
    "\n",
    "# Crie um engine de conexão\n",
    "engine = create_engine(db_url)\n",
    "\n",
    "# Salvar DataFrame no banco de dados\n",
    "def save_to_db(df):\n",
    "    with engine.connect() as connection:\n",
    "        df.to_sql('database_agro', connection, if_exists='replace', index=False)\n",
    "    print(\"Dados salvos no banco de dados SQLite!\")"
   ]
  },
  {
   "cell_type": "code",
   "execution_count": 20,
   "metadata": {},
   "outputs": [
    {
     "name": "stdout",
     "output_type": "stream",
     "text": [
      "Dados salvos no banco de dados SQLite!\n"
     ]
    }
   ],
   "source": [
    "# Salvar o DataFrame no banco de dados\n",
    "save_to_db(df)"
   ]
  },
  {
   "cell_type": "markdown",
   "metadata": {},
   "source": [
    "# 6 - Dicionário de dados"
   ]
  },
  {
   "cell_type": "code",
   "execution_count": 25,
   "metadata": {},
   "outputs": [],
   "source": [
    "#data - data da informação \n",
    "#produto - produto do agro\n",
    "#municipio - município\n",
    "#tipo - tipo do produto \n",
    "#peso - peso em kg\n",
    "#preco - preço em R$"
   ]
  },
  {
   "cell_type": "markdown",
   "metadata": {},
   "source": [
    "# 7 - Recarregar dados a partir do banco de dados "
   ]
  },
  {
   "cell_type": "code",
   "execution_count": 21,
   "metadata": {},
   "outputs": [],
   "source": [
    "# Abrir uma nova conexão e ler dados\n",
    "def read_from_db():\n",
    "    with engine.connect() as connection:\n",
    "        query = text('SELECT * FROM agro')\n",
    "        result = connection.execute(query)\n",
    "        df = pd.DataFrame(result.fetchall(), columns=result.keys())\n",
    "        print(\"Dados carrregados do banco de dados SQLite!\")\n",
    "    return df"
   ]
  },
  {
   "cell_type": "code",
   "execution_count": 22,
   "metadata": {},
   "outputs": [
    {
     "name": "stdout",
     "output_type": "stream",
     "text": [
      "Dados carrregados do banco de dados SQLite!\n"
     ]
    }
   ],
   "source": [
    "# Ler o DataFrame do banco de dados\n",
    "df_from_db = read_from_db()\n",
    "#print(df_from_db)"
   ]
  },
  {
   "cell_type": "code",
   "execution_count": 23,
   "metadata": {},
   "outputs": [
    {
     "data": {
      "text/plain": [
       "Index(['data', 'produto', 'municipio', 'tipo', 'peso', 'preco'], dtype='object')"
      ]
     },
     "execution_count": 23,
     "metadata": {},
     "output_type": "execute_result"
    }
   ],
   "source": [
    "df_from_db.columns"
   ]
  },
  {
   "cell_type": "code",
   "execution_count": 26,
   "metadata": {},
   "outputs": [
    {
     "data": {
      "text/html": [
       "<div>\n",
       "<style scoped>\n",
       "    .dataframe tbody tr th:only-of-type {\n",
       "        vertical-align: middle;\n",
       "    }\n",
       "\n",
       "    .dataframe tbody tr th {\n",
       "        vertical-align: top;\n",
       "    }\n",
       "\n",
       "    .dataframe thead th {\n",
       "        text-align: right;\n",
       "    }\n",
       "</style>\n",
       "<table border=\"1\" class=\"dataframe\">\n",
       "  <thead>\n",
       "    <tr style=\"text-align: right;\">\n",
       "      <th></th>\n",
       "      <th>data</th>\n",
       "      <th>produto</th>\n",
       "      <th>municipio</th>\n",
       "      <th>tipo</th>\n",
       "      <th>peso</th>\n",
       "      <th>preco</th>\n",
       "    </tr>\n",
       "  </thead>\n",
       "  <tbody>\n",
       "    <tr>\n",
       "      <th>28</th>\n",
       "      <td>12/08/2016</td>\n",
       "      <td>Feijão</td>\n",
       "      <td>RIBEIRA DO POMBAL</td>\n",
       "      <td>Carioca</td>\n",
       "      <td>sc 60 kg</td>\n",
       "      <td>R$ 510,00</td>\n",
       "    </tr>\n",
       "    <tr>\n",
       "      <th>26</th>\n",
       "      <td>11/08/2016</td>\n",
       "      <td>Feijão</td>\n",
       "      <td>TUCANO</td>\n",
       "      <td>Carioca</td>\n",
       "      <td>sc 60 kg</td>\n",
       "      <td>R$ 450,00</td>\n",
       "    </tr>\n",
       "    <tr>\n",
       "      <th>23</th>\n",
       "      <td>10/08/2016</td>\n",
       "      <td>Feijão</td>\n",
       "      <td>RIBEIRA DO POMBAL</td>\n",
       "      <td>Carioca</td>\n",
       "      <td>sc 60 kg</td>\n",
       "      <td>R$ 510,00</td>\n",
       "    </tr>\n",
       "    <tr>\n",
       "      <th>16</th>\n",
       "      <td>05/08/2016</td>\n",
       "      <td>Feijão</td>\n",
       "      <td>TUCANO</td>\n",
       "      <td>Carioca</td>\n",
       "      <td>sc 60 kg</td>\n",
       "      <td>R$ 480,00</td>\n",
       "    </tr>\n",
       "    <tr>\n",
       "      <th>3</th>\n",
       "      <td>08/08/2016</td>\n",
       "      <td>Feijão</td>\n",
       "      <td>IRECE</td>\n",
       "      <td>Carioca</td>\n",
       "      <td>sc 60 kg</td>\n",
       "      <td>R$ 480,00</td>\n",
       "    </tr>\n",
       "  </tbody>\n",
       "</table>\n",
       "</div>"
      ],
      "text/plain": [
       "          data produto          municipio     tipo      peso      preco\n",
       "28  12/08/2016  Feijão  RIBEIRA DO POMBAL  Carioca  sc 60 kg  R$ 510,00\n",
       "26  11/08/2016  Feijão             TUCANO  Carioca  sc 60 kg  R$ 450,00\n",
       "23  10/08/2016  Feijão  RIBEIRA DO POMBAL  Carioca  sc 60 kg  R$ 510,00\n",
       "16  05/08/2016  Feijão             TUCANO  Carioca  sc 60 kg  R$ 480,00\n",
       "3   08/08/2016  Feijão              IRECE  Carioca  sc 60 kg  R$ 480,00"
      ]
     },
     "execution_count": 26,
     "metadata": {},
     "output_type": "execute_result"
    }
   ],
   "source": [
    "df_from_db.sample(5)"
   ]
  },
  {
   "cell_type": "markdown",
   "metadata": {},
   "source": [
    "# 8 - Pré processamento dos dados"
   ]
  },
  {
   "cell_type": "code",
   "execution_count": null,
   "metadata": {},
   "outputs": [],
   "source": []
  },
  {
   "cell_type": "markdown",
   "metadata": {},
   "source": [
    "# 9 - EDA"
   ]
  },
  {
   "cell_type": "code",
   "execution_count": null,
   "metadata": {},
   "outputs": [],
   "source": []
  },
  {
   "cell_type": "markdown",
   "metadata": {},
   "source": [
    "# 10 - Modelagem de machine learning"
   ]
  },
  {
   "cell_type": "code",
   "execution_count": null,
   "metadata": {},
   "outputs": [],
   "source": []
  },
  {
   "cell_type": "code",
   "execution_count": null,
   "metadata": {},
   "outputs": [],
   "source": []
  },
  {
   "cell_type": "markdown",
   "metadata": {},
   "source": [
    "# 11 - Deploy do modelo de machine learning"
   ]
  },
  {
   "cell_type": "code",
   "execution_count": null,
   "metadata": {},
   "outputs": [],
   "source": []
  },
  {
   "cell_type": "code",
   "execution_count": null,
   "metadata": {},
   "outputs": [],
   "source": []
  },
  {
   "cell_type": "code",
   "execution_count": null,
   "metadata": {},
   "outputs": [],
   "source": []
  },
  {
   "cell_type": "markdown",
   "metadata": {},
   "source": []
  },
  {
   "cell_type": "markdown",
   "metadata": {},
   "source": [
    "## CONTINUAR A PARTIR DAQUI"
   ]
  },
  {
   "cell_type": "code",
   "execution_count": null,
   "metadata": {},
   "outputs": [],
   "source": [
    "df5.columns\n"
   ]
  },
  {
   "cell_type": "code",
   "execution_count": null,
   "metadata": {},
   "outputs": [],
   "source": [
    "df6 = df5.copy()"
   ]
  },
  {
   "cell_type": "code",
   "execution_count": null,
   "metadata": {},
   "outputs": [],
   "source": [
    "# para fazermos a filtragem somente daqueles personagens que temos todos os dados, faremos uma filtragem\n",
    "# Filtrando os valores das colunas\n",
    "for column in df6.columns:\n",
    "    df6 = df6[~df6[column].astype(str).str.contains('desconhecido')]"
   ]
  },
  {
   "cell_type": "code",
   "execution_count": null,
   "metadata": {},
   "outputs": [],
   "source": [
    "df6.sample(5)"
   ]
  },
  {
   "cell_type": "code",
   "execution_count": null,
   "metadata": {},
   "outputs": [],
   "source": [
    "df6['Ano_de_nascimento'].sample(5)"
   ]
  },
  {
   "cell_type": "code",
   "execution_count": null,
   "metadata": {},
   "outputs": [],
   "source": [
    "# Verificando se há algum valor 'desconhecido'\n",
    "tem_desconhecido = df6.applymap(lambda x: 'desconhecido' in str(x)).any().any()\n",
    "tem_desconhecido"
   ]
  },
  {
   "cell_type": "code",
   "execution_count": null,
   "metadata": {},
   "outputs": [],
   "source": [
    "# agora na coluna Altura vamos tirar o 'm' e na coluna Peso vamos tirar o 'k' ou 'kg'\n",
    "df6['Altura'] = df6['Altura'].str.replace('m', '')\n",
    "df6['Peso'] = df6['Peso'].str.replace('k', '')\n",
    "df6['Peso'] = df6['Peso'].str.replace('kg', '')\n",
    "df6['Peso'] = df6['Peso'].str.replace('g', '')"
   ]
  },
  {
   "cell_type": "code",
   "execution_count": null,
   "metadata": {},
   "outputs": [],
   "source": [
    "df6.shape"
   ]
  },
  {
   "cell_type": "code",
   "execution_count": null,
   "metadata": {},
   "outputs": [],
   "source": [
    "df6['Altura'].unique()"
   ]
  },
  {
   "cell_type": "code",
   "execution_count": null,
   "metadata": {},
   "outputs": [],
   "source": [
    "df6['Peso'].unique()"
   ]
  },
  {
   "cell_type": "code",
   "execution_count": null,
   "metadata": {},
   "outputs": [],
   "source": [
    "# O python reconhece o . como separador de números. Vamos ajustar as colunas Altura e Peso\n",
    "df6['Altura'] = df6['Altura'].str.replace(',', '.').astype(float)\n",
    "df6['Peso'] = df6['Peso'].str.replace(',', '.').astype(float)"
   ]
  },
  {
   "cell_type": "code",
   "execution_count": null,
   "metadata": {},
   "outputs": [],
   "source": [
    "# vamos converter o tipo da coluna ano\n",
    "df6['Ano_de_nascimento'] = pd.to_datetime(df6['Ano_de_nascimento'], format='%Y')"
   ]
  },
  {
   "cell_type": "code",
   "execution_count": null,
   "metadata": {},
   "outputs": [],
   "source": [
    "df6.info()"
   ]
  },
  {
   "cell_type": "markdown",
   "metadata": {},
   "source": [
    "### Exploração das variáveis numéricas"
   ]
  },
  {
   "cell_type": "code",
   "execution_count": null,
   "metadata": {},
   "outputs": [],
   "source": [
    "df6.describe()"
   ]
  },
  {
   "cell_type": "code",
   "execution_count": null,
   "metadata": {},
   "outputs": [],
   "source": [
    "# Plot \n",
    "df6.hist(figsize = (15,15), bins = 10) \n",
    "plt.show()"
   ]
  },
  {
   "cell_type": "code",
   "execution_count": null,
   "metadata": {},
   "outputs": [],
   "source": [
    "# Plotagem dos histogramas com cores personalizadas\n",
    "plt.figure(figsize=(15, 15))  # Define o tamanho da figura\n",
    "df6.hist(figsize=(15, 15), bins=8, color='saddlebrown', edgecolor='white')  # Cria os histogramas com cores personalizadas\n",
    "# Ajustes adicionais\n",
    "plt.tight_layout()  # Ajusta o layout para evitar sobreposição de gráficos\n",
    "plt.show()  # Mostra os histogramas"
   ]
  },
  {
   "cell_type": "code",
   "execution_count": null,
   "metadata": {},
   "outputs": [],
   "source": [
    "# Insighs:\n",
    "# maioria nasceu entre os anos 1960 e 1970\n",
    "# maioria com altura acima de 1,75m \n",
    "# maioria com peso entre 60 e 90kg"
   ]
  },
  {
   "cell_type": "code",
   "execution_count": null,
   "metadata": {},
   "outputs": [],
   "source": [
    "# Plotagem do gráfico\n",
    "plt.figure(figsize=(8, 6))  # Define o tamanho da figura (opcional)\n",
    "\n",
    "plt.scatter(df6['Altura'], df6['Peso'], color='blue', marker='o', alpha=0.5)  # Cria o gráfico de dispersão\n",
    "plt.title('Relação entre Peso e Altura')  # Adiciona o título do gráfico\n",
    "plt.xlabel('Altura (cm)')  # Adiciona o rótulo do eixo x\n",
    "plt.ylabel('Peso (kg)')  # Adiciona o rótulo do eixo y\n",
    "plt.grid(True)  # Adiciona grades de fundo (opcional)\n",
    "\n",
    "plt.show()  # Mostra o gráfico"
   ]
  },
  {
   "cell_type": "code",
   "execution_count": null,
   "metadata": {},
   "outputs": [],
   "source": [
    "# Em geral, quanto maior a altura, maior o peso do personagem."
   ]
  },
  {
   "cell_type": "code",
   "execution_count": null,
   "metadata": {},
   "outputs": [],
   "source": [
    "# Correlação (tabela)\n",
    "df6.corr()"
   ]
  },
  {
   "cell_type": "code",
   "execution_count": null,
   "metadata": {},
   "outputs": [],
   "source": [
    "# Existe uma alta correlação positiva entre Altura e Peso conforme já havíamos visto no gráfico."
   ]
  },
  {
   "cell_type": "markdown",
   "metadata": {},
   "source": [
    "### Exploração das variáveis categóricas"
   ]
  },
  {
   "cell_type": "code",
   "execution_count": null,
   "metadata": {},
   "outputs": [],
   "source": [
    "# Contando as categorias\n",
    "contagem = df6['Tipo_sanguíneo'].value_counts()\n",
    "\n",
    "# Exibindo a contagem\n",
    "contagem"
   ]
  },
  {
   "cell_type": "code",
   "execution_count": null,
   "metadata": {},
   "outputs": [],
   "source": [
    "quantidade_de_tipo_sangue = df6['Tipo_sanguíneo'].nunique()\n",
    "print(\"Quantidade de tipos sanguíneos:\", quantidade_de_tipo_sangue)"
   ]
  },
  {
   "cell_type": "code",
   "execution_count": null,
   "metadata": {},
   "outputs": [],
   "source": [
    "# Plotagem do gráfico de barras\n",
    "plt.figure(figsize=(8, 6))  # Define o tamanho da figura (opcional)\n",
    "\n",
    "contagem.plot(kind='bar', color='darkviolet')  # Cria o gráfico de barras\n",
    "plt.title('Contagem de Tipos Sanguíneos')  # Adiciona o título do gráfico\n",
    "plt.xlabel('Tipo Sanguíneo')  # Adiciona o rótulo do eixo x\n",
    "plt.ylabel('Contagem')  # Adiciona o rótulo do eixo y\n",
    "\n",
    "plt.show()  # Mostra o gráfico"
   ]
  },
  {
   "cell_type": "code",
   "execution_count": null,
   "metadata": {},
   "outputs": [],
   "source": [
    "# mostrando de forma ordenada\n",
    "ax = sns.countplot(data=df6, x='Tipo_sanguíneo', order=df6['Tipo_sanguíneo'].value_counts().index)\n",
    "ax.set_xticklabels(ax.get_xticklabels(), rotation=45, ha='right')\n",
    "plt.title('Contagem de Tipos Sanguíneos')\n",
    "plt.show()"
   ]
  },
  {
   "cell_type": "code",
   "execution_count": null,
   "metadata": {},
   "outputs": [],
   "source": [
    "# maioria dos personagens tem sangue A ou O"
   ]
  },
  {
   "cell_type": "code",
   "execution_count": null,
   "metadata": {},
   "outputs": [],
   "source": [
    "# Contando as categorias\n",
    "contagem = df6['Aparicoes'].value_counts()\n",
    "\n",
    "# Exibindo a contagem\n",
    "contagem"
   ]
  },
  {
   "cell_type": "code",
   "execution_count": null,
   "metadata": {},
   "outputs": [],
   "source": [
    "quantidade_de_aparicoes = df6['Aparicoes'].nunique()\n",
    "print(\"Quantidade de aparições:\", quantidade_de_aparicoes)"
   ]
  },
  {
   "cell_type": "code",
   "execution_count": null,
   "metadata": {},
   "outputs": [],
   "source": [
    "# Plotagem do gráfico de barras\n",
    "plt.figure(figsize=(8, 6))  # Define o tamanho da figura (opcional)\n",
    "\n",
    "contagem.plot(kind='bar', color='gold')  # Cria o gráfico de barras\n",
    "plt.title('Contagem de Aparições')  # Adiciona o título do gráfico\n",
    "plt.show()  # Mostra o gráfico"
   ]
  },
  {
   "cell_type": "code",
   "execution_count": null,
   "metadata": {},
   "outputs": [],
   "source": [
    "# os personagens são mencionados de forma diferente títulos das séries"
   ]
  },
  {
   "cell_type": "markdown",
   "metadata": {},
   "source": [
    "### Verificando a variável Ano_de_nascimento"
   ]
  },
  {
   "cell_type": "code",
   "execution_count": null,
   "metadata": {},
   "outputs": [],
   "source": [
    "# verificando valores únicos\n",
    "print(df6['Ano_de_nascimento'].unique())"
   ]
  },
  {
   "cell_type": "code",
   "execution_count": null,
   "metadata": {},
   "outputs": [],
   "source": [
    "df6['Ano_de_nascimento'] = pd.to_datetime(df6['Ano_de_nascimento']).dt.year"
   ]
  },
  {
   "cell_type": "code",
   "execution_count": null,
   "metadata": {},
   "outputs": [],
   "source": [
    "# Contando a frequência de cada ano\n",
    "contagem_anos = df6['Ano_de_nascimento'].value_counts()\n",
    "contagem_anos"
   ]
  },
  {
   "cell_type": "code",
   "execution_count": null,
   "metadata": {},
   "outputs": [],
   "source": [
    "# Plotagem do gráfico de barras\n",
    "plt.figure(figsize=(10, 6))  # Define o tamanho da figura (opcional)\n",
    "contagem_anos.plot(kind='bar', color='darkkhaki')  # Cria o gráfico de barras\n",
    "plt.title('Contagem de personagens nascidos por Ano')  # Adiciona o título do gráfico\n",
    "#plt.xlabel('Ano')  # Adiciona o rótulo do eixo x\n",
    "#plt.ylabel('Contagem')  # Adiciona o rótulo do eixo y\n",
    "plt.show()  # Mostra o gráfico"
   ]
  },
  {
   "cell_type": "code",
   "execution_count": null,
   "metadata": {},
   "outputs": [],
   "source": [
    "# O ano que teve mais nascimentos dos personagens foi em 1972."
   ]
  },
  {
   "cell_type": "markdown",
   "metadata": {},
   "source": [
    "# Fim"
   ]
  }
 ],
 "metadata": {
  "kernelspec": {
   "display_name": "Python 3 (ipykernel)",
   "language": "python",
   "name": "python3"
  },
  "language_info": {
   "codemirror_mode": {
    "name": "ipython",
    "version": 3
   },
   "file_extension": ".py",
   "mimetype": "text/x-python",
   "name": "python",
   "nbconvert_exporter": "python",
   "pygments_lexer": "ipython3",
   "version": "3.12.4"
  }
 },
 "nbformat": 4,
 "nbformat_minor": 4
}
