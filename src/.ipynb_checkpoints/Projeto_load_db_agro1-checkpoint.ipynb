{
 "cells": [
  {
   "cell_type": "markdown",
   "metadata": {},
   "source": [
    "# Problema de extração e análise de dados - Parte 2"
   ]
  },
  {
   "cell_type": "markdown",
   "metadata": {},
   "source": [
    "# 1 - Definindo o problema de negócio"
   ]
  },
  {
   "cell_type": "markdown",
   "metadata": {},
   "source": [
    "### Obter dados dos xxxxx na página web https://www.agrolink.com.br/cotacoes/graos/milho e fazer uma análise de dados"
   ]
  },
  {
   "cell_type": "markdown",
   "metadata": {},
   "source": [
    "# 2 - Decisões"
   ]
  },
  {
   "cell_type": "markdown",
   "metadata": {},
   "source": [
    "### O problema de negócio já informa que é requerido um webscrapping. Utilizaremos o pacote BeautifulSoup para fazer a extração dos dados. Após a limpeza dos dados, faremos gráficos e estatísticas utilizando pacotes básicos do python."
   ]
  },
  {
   "cell_type": "markdown",
   "metadata": {},
   "source": [
    "# 3 - Versão python e import dos pacotes utilizados"
   ]
  },
  {
   "cell_type": "code",
   "execution_count": 1,
   "metadata": {},
   "outputs": [
    {
     "name": "stdout",
     "output_type": "stream",
     "text": [
      "Versão da Linguagem Python Usada Neste Jupyter Notebook: 3.12.4\n"
     ]
    }
   ],
   "source": [
    "# Versão da Linguagem Python\n",
    "from platform import python_version\n",
    "print('Versão da Linguagem Python Usada Neste Jupyter Notebook:', python_version())"
   ]
  },
  {
   "cell_type": "code",
   "execution_count": 2,
   "metadata": {},
   "outputs": [],
   "source": [
    "# Para atualizar um pacote, execute o comando abaixo no terminal ou prompt de comando:\n",
    "# pip install -U nome_pacote\n",
    "\n",
    "# Para instalar a versão exata de um pacote, execute o comando abaixo no terminal ou prompt de comando:\n",
    "#!pip install nome_pacote==versão_desejada\n",
    "\n",
    "# Depois de instalar ou atualizar o pacote, reinicie o jupyter notebook.\n",
    "\n",
    "# Instala o pacote watermark. \n",
    "# Esse pacote é usado para gravar as versões de outros pacotes usados neste jupyter notebook.\n",
    "#!pip install -q -U watermark"
   ]
  },
  {
   "cell_type": "code",
   "execution_count": 3,
   "metadata": {},
   "outputs": [],
   "source": [
    "# Imports\n",
    "import numpy as np\n",
    "import pandas as pd\n",
    "import sqlite3\n",
    "import matplotlib.pyplot as plt\n",
    "import seaborn as sns\n",
    "sns.set_style('whitegrid')\n",
    "from sqlalchemy import create_engine, text\n",
    "import warnings\n",
    "warnings.filterwarnings(\"ignore\", category=FutureWarning)"
   ]
  },
  {
   "cell_type": "code",
   "execution_count": 4,
   "metadata": {},
   "outputs": [
    {
     "name": "stdout",
     "output_type": "stream",
     "text": [
      "Author: Danilo Temerloglou de Abreu\n",
      "\n",
      "seaborn   : 0.13.2\n",
      "pandas    : 2.2.2\n",
      "matplotlib: 3.8.4\n",
      "numpy     : 1.26.4\n",
      "sqlite3   : 2.6.0\n",
      "\n"
     ]
    }
   ],
   "source": [
    "# Versões dos pacotes usados neste jupyter notebook\n",
    "%reload_ext watermark\n",
    "%watermark -a \"Danilo Temerloglou de Abreu\" --iversions"
   ]
  },
  {
   "cell_type": "markdown",
   "metadata": {},
   "source": [
    "# 4 - Carregando banco de dados e inserindo as informações num dataframe"
   ]
  },
  {
   "cell_type": "code",
   "execution_count": 5,
   "metadata": {},
   "outputs": [],
   "source": [
    "#Função para carregar banco de dados e colocar os dados num dataframe\n",
    "def load_from_db(db_name='database_agro.db'):\n",
    "    # Conectar ao banco de dados\n",
    "    with sqlite3.connect(db_name) as conn:\n",
    "        # Ler a tabela como um DataFrame\n",
    "        df = pd.read_sql('SELECT * FROM database_agro', conn)\n",
    "        print(\"Dados carregados do banco de dados com sucesso.\")\n",
    "    return df"
   ]
  },
  {
   "cell_type": "markdown",
   "metadata": {},
   "source": [
    "# 5 - Dicionário de dados"
   ]
  },
  {
   "cell_type": "code",
   "execution_count": 6,
   "metadata": {},
   "outputs": [],
   "source": [
    "#data - data da informação \n",
    "#produto - produto do agro\n",
    "#municipio - município\n",
    "#tipo - tipo do produto \n",
    "#peso - peso em kg\n",
    "#preco - preço em R$"
   ]
  },
  {
   "cell_type": "markdown",
   "metadata": {},
   "source": [
    "# 6 - Pré processamento dos dados"
   ]
  },
  {
   "cell_type": "code",
   "execution_count": 7,
   "metadata": {},
   "outputs": [
    {
     "name": "stdout",
     "output_type": "stream",
     "text": [
      "Dados carregados do banco de dados com sucesso.\n"
     ]
    },
    {
     "data": {
      "text/html": [
       "<div>\n",
       "<style scoped>\n",
       "    .dataframe tbody tr th:only-of-type {\n",
       "        vertical-align: middle;\n",
       "    }\n",
       "\n",
       "    .dataframe tbody tr th {\n",
       "        vertical-align: top;\n",
       "    }\n",
       "\n",
       "    .dataframe thead th {\n",
       "        text-align: right;\n",
       "    }\n",
       "</style>\n",
       "<table border=\"1\" class=\"dataframe\">\n",
       "  <thead>\n",
       "    <tr style=\"text-align: right;\">\n",
       "      <th></th>\n",
       "      <th>data</th>\n",
       "      <th>produto</th>\n",
       "      <th>municipio</th>\n",
       "      <th>tipo</th>\n",
       "      <th>peso</th>\n",
       "      <th>preco</th>\n",
       "    </tr>\n",
       "  </thead>\n",
       "  <tbody>\n",
       "    <tr>\n",
       "      <th>3137</th>\n",
       "      <td>07/01/2015</td>\n",
       "      <td>Abacate</td>\n",
       "      <td>SALVADOR</td>\n",
       "      <td>Médio</td>\n",
       "      <td>sc 25 Kg</td>\n",
       "      <td>R$ 45,00</td>\n",
       "    </tr>\n",
       "    <tr>\n",
       "      <th>713</th>\n",
       "      <td>15/01/2015</td>\n",
       "      <td>Abacate</td>\n",
       "      <td>SALVADOR</td>\n",
       "      <td>(comum)</td>\n",
       "      <td>cx 30 kg</td>\n",
       "      <td>R$ 108,00</td>\n",
       "    </tr>\n",
       "    <tr>\n",
       "      <th>705</th>\n",
       "      <td>05/01/2015</td>\n",
       "      <td>Abacate</td>\n",
       "      <td>SALVADOR</td>\n",
       "      <td>Médio</td>\n",
       "      <td>sc 25 Kg</td>\n",
       "      <td>R$ 45,00</td>\n",
       "    </tr>\n",
       "    <tr>\n",
       "      <th>797</th>\n",
       "      <td>07/01/2015</td>\n",
       "      <td>Abacate</td>\n",
       "      <td>SALVADOR</td>\n",
       "      <td>Médio</td>\n",
       "      <td>sc 25 Kg</td>\n",
       "      <td>R$ 45,00</td>\n",
       "    </tr>\n",
       "    <tr>\n",
       "      <th>2069</th>\n",
       "      <td>23/01/2015</td>\n",
       "      <td>Abacate</td>\n",
       "      <td>SALVADOR</td>\n",
       "      <td>(comum)</td>\n",
       "      <td>cx 30 kg</td>\n",
       "      <td>R$ 108,00</td>\n",
       "    </tr>\n",
       "  </tbody>\n",
       "</table>\n",
       "</div>"
      ],
      "text/plain": [
       "            data  produto municipio     tipo      peso      preco\n",
       "3137  07/01/2015  Abacate  SALVADOR    Médio  sc 25 Kg   R$ 45,00\n",
       "713   15/01/2015  Abacate  SALVADOR  (comum)  cx 30 kg  R$ 108,00\n",
       "705   05/01/2015  Abacate  SALVADOR    Médio  sc 25 Kg   R$ 45,00\n",
       "797   07/01/2015  Abacate  SALVADOR    Médio  sc 25 Kg   R$ 45,00\n",
       "2069  23/01/2015  Abacate  SALVADOR  (comum)  cx 30 kg  R$ 108,00"
      ]
     },
     "execution_count": 7,
     "metadata": {},
     "output_type": "execute_result"
    }
   ],
   "source": [
    "df = load_from_db()\n",
    "df.sample(5)"
   ]
  },
  {
   "cell_type": "code",
   "execution_count": 8,
   "metadata": {},
   "outputs": [
    {
     "data": {
      "text/plain": [
       "data         object\n",
       "produto      object\n",
       "municipio    object\n",
       "tipo         object\n",
       "peso         object\n",
       "preco        object\n",
       "dtype: object"
      ]
     },
     "execution_count": 8,
     "metadata": {},
     "output_type": "execute_result"
    }
   ],
   "source": [
    "df.dtypes"
   ]
  },
  {
   "cell_type": "code",
   "execution_count": 9,
   "metadata": {},
   "outputs": [],
   "source": [
    "# Converter a coluna 'data' para o tipo datetime com o formato dd/mm/yyyy\n",
    "df['data'] = pd.to_datetime(df['data'], format='%d/%m/%Y')\n",
    "# Garantir que a coluna 'peso' seja do tipo string\n",
    "df['peso'] = df['peso'].astype(str)\n",
    "# Usar uma expressão regular para extrair apenas os números da coluna 'peso'\n",
    "df['peso'] = df['peso'].str.extract(r'(\\d+)').astype(float)\n",
    "# Arredondar para duas casas decimais\n",
    "df['peso'] = df['peso'].round(2)"
   ]
  },
  {
   "cell_type": "code",
   "execution_count": 10,
   "metadata": {},
   "outputs": [],
   "source": [
    "# Função para limpar e converter os valores de preço\n",
    "def converter_preco(preco):\n",
    "    if isinstance(preco, str):\n",
    "        # Remover o símbolo 'R$' e espaços\n",
    "        preco = preco.replace('R$', '').replace(' ', '')\n",
    "        # Trocar a vírgula por ponto e remover pontos de milhares\n",
    "        preco = preco.replace('.', '').replace(',', '.')\n",
    "        try:\n",
    "            # Converter para float\n",
    "            return float(preco)\n",
    "        except ValueError:\n",
    "            # Retornar NaN se não for possível converter\n",
    "            return float('nan')\n",
    "    return preco"
   ]
  },
  {
   "cell_type": "code",
   "execution_count": 11,
   "metadata": {},
   "outputs": [],
   "source": [
    "# Aplicar a função à coluna 'preço'\n",
    "df['preco'] = df['preco'].apply(converter_preco)\n",
    "# Arredondar para duas casas decimais\n",
    "df['preco'] = df['preco'].round(2)"
   ]
  },
  {
   "cell_type": "markdown",
   "metadata": {},
   "source": [
    "# 9 - EDA"
   ]
  },
  {
   "cell_type": "markdown",
   "metadata": {},
   "source": [
    "### Valores Únicos de cada coluna"
   ]
  },
  {
   "cell_type": "code",
   "execution_count": 12,
   "metadata": {},
   "outputs": [
    {
     "data": {
      "text/plain": [
       "array(['Abacate'], dtype=object)"
      ]
     },
     "execution_count": 12,
     "metadata": {},
     "output_type": "execute_result"
    }
   ],
   "source": [
    "# Obter valores únicos da coluna 'categoria'\n",
    "df['produto'].unique()"
   ]
  },
  {
   "cell_type": "code",
   "execution_count": 13,
   "metadata": {},
   "outputs": [
    {
     "data": {
      "text/plain": [
       "array(['SALVADOR'], dtype=object)"
      ]
     },
     "execution_count": 13,
     "metadata": {},
     "output_type": "execute_result"
    }
   ],
   "source": [
    "# Obter valores únicos da coluna 'categoria'\n",
    "df['municipio'].unique()"
   ]
  },
  {
   "cell_type": "code",
   "execution_count": 14,
   "metadata": {},
   "outputs": [
    {
     "data": {
      "text/plain": [
       "array(['(comum)', 'Médio'], dtype=object)"
      ]
     },
     "execution_count": 14,
     "metadata": {},
     "output_type": "execute_result"
    }
   ],
   "source": [
    "# Obter valores únicos da coluna 'categoria'\n",
    "df['tipo'].unique()"
   ]
  },
  {
   "cell_type": "code",
   "execution_count": 15,
   "metadata": {},
   "outputs": [
    {
     "data": {
      "text/plain": [
       "Timestamp('2015-01-05 00:00:00')"
      ]
     },
     "execution_count": 15,
     "metadata": {},
     "output_type": "execute_result"
    }
   ],
   "source": [
    "# Obter a data mais antiga\n",
    "df['data'].min()"
   ]
  },
  {
   "cell_type": "code",
   "execution_count": 16,
   "metadata": {},
   "outputs": [
    {
     "data": {
      "text/plain": [
       "Timestamp('2015-01-23 00:00:00')"
      ]
     },
     "execution_count": 16,
     "metadata": {},
     "output_type": "execute_result"
    }
   ],
   "source": [
    "# Obter a data mais recente\n",
    "df['data'].max()"
   ]
  },
  {
   "cell_type": "code",
   "execution_count": 17,
   "metadata": {},
   "outputs": [
    {
     "data": {
      "text/plain": [
       "(4500, 6)"
      ]
     },
     "execution_count": 17,
     "metadata": {},
     "output_type": "execute_result"
    }
   ],
   "source": [
    "df.shape"
   ]
  },
  {
   "cell_type": "markdown",
   "metadata": {},
   "source": [
    "### Exploração das variáveis categóricas"
   ]
  },
  {
   "cell_type": "code",
   "execution_count": 18,
   "metadata": {},
   "outputs": [
    {
     "data": {
      "image/png": "[encoded data removed]",
      "text/plain": [
       "<Figure size 640x480 with 1 Axes>"
      ]
     },
     "metadata": {},
     "output_type": "display_data"
    }
   ],
   "source": [
    "# Criar gráfico de contagem\n",
    "sns.countplot(data=df, x='municipio', hue='tipo')\n",
    "plt.xlabel('Município')\n",
    "plt.ylabel('Contagem')\n",
    "plt.title('Gráfico de Contagem para Duas Variáveis Categóricas')\n",
    "# Definir limites do eixo y\n",
    "plt.ylim(0, 10)  # Define o limite inferior e superior do eixo y\n",
    "plt.show()"
   ]
  },
  {
   "cell_type": "code",
   "execution_count": 19,
   "metadata": {},
   "outputs": [],
   "source": [
    "#Só há feijão tipo Mulato no município de Irece"
   ]
  },
  {
   "cell_type": "markdown",
   "metadata": {},
   "source": [
    "### Exploração das variáveis numéricas"
   ]
  },
  {
   "cell_type": "code",
   "execution_count": 20,
   "metadata": {},
   "outputs": [
    {
     "data": {
      "text/html": [
       "<div>\n",
       "<style scoped>\n",
       "    .dataframe tbody tr th:only-of-type {\n",
       "        vertical-align: middle;\n",
       "    }\n",
       "\n",
       "    .dataframe tbody tr th {\n",
       "        vertical-align: top;\n",
       "    }\n",
       "\n",
       "    .dataframe thead th {\n",
       "        text-align: right;\n",
       "    }\n",
       "</style>\n",
       "<table border=\"1\" class=\"dataframe\">\n",
       "  <thead>\n",
       "    <tr style=\"text-align: right;\">\n",
       "      <th></th>\n",
       "      <th>data</th>\n",
       "      <th>peso</th>\n",
       "      <th>preco</th>\n",
       "    </tr>\n",
       "  </thead>\n",
       "  <tbody>\n",
       "    <tr>\n",
       "      <th>count</th>\n",
       "      <td>4500</td>\n",
       "      <td>4500.000000</td>\n",
       "      <td>4500.000000</td>\n",
       "    </tr>\n",
       "    <tr>\n",
       "      <th>mean</th>\n",
       "      <td>2015-01-14 00:00:00</td>\n",
       "      <td>27.500000</td>\n",
       "      <td>76.500000</td>\n",
       "    </tr>\n",
       "    <tr>\n",
       "      <th>min</th>\n",
       "      <td>2015-01-05 00:00:00</td>\n",
       "      <td>25.000000</td>\n",
       "      <td>45.000000</td>\n",
       "    </tr>\n",
       "    <tr>\n",
       "      <th>25%</th>\n",
       "      <td>2015-01-08 00:00:00</td>\n",
       "      <td>25.000000</td>\n",
       "      <td>45.000000</td>\n",
       "    </tr>\n",
       "    <tr>\n",
       "      <th>50%</th>\n",
       "      <td>2015-01-14 00:00:00</td>\n",
       "      <td>27.500000</td>\n",
       "      <td>76.500000</td>\n",
       "    </tr>\n",
       "    <tr>\n",
       "      <th>75%</th>\n",
       "      <td>2015-01-20 00:00:00</td>\n",
       "      <td>30.000000</td>\n",
       "      <td>108.000000</td>\n",
       "    </tr>\n",
       "    <tr>\n",
       "      <th>max</th>\n",
       "      <td>2015-01-23 00:00:00</td>\n",
       "      <td>30.000000</td>\n",
       "      <td>108.000000</td>\n",
       "    </tr>\n",
       "    <tr>\n",
       "      <th>std</th>\n",
       "      <td>NaN</td>\n",
       "      <td>2.500278</td>\n",
       "      <td>31.503501</td>\n",
       "    </tr>\n",
       "  </tbody>\n",
       "</table>\n",
       "</div>"
      ],
      "text/plain": [
       "                      data         peso        preco\n",
       "count                 4500  4500.000000  4500.000000\n",
       "mean   2015-01-14 00:00:00    27.500000    76.500000\n",
       "min    2015-01-05 00:00:00    25.000000    45.000000\n",
       "25%    2015-01-08 00:00:00    25.000000    45.000000\n",
       "50%    2015-01-14 00:00:00    27.500000    76.500000\n",
       "75%    2015-01-20 00:00:00    30.000000   108.000000\n",
       "max    2015-01-23 00:00:00    30.000000   108.000000\n",
       "std                    NaN     2.500278    31.503501"
      ]
     },
     "execution_count": 20,
     "metadata": {},
     "output_type": "execute_result"
    }
   ],
   "source": [
    "df.describe()"
   ]
  },
  {
   "cell_type": "code",
   "execution_count": 21,
   "metadata": {},
   "outputs": [
    {
     "data": {
      "image/png": "[encoded data removed]",
      "text/plain": [
       "<Figure size 1000x1000 with 1 Axes>"
      ]
     },
     "metadata": {},
     "output_type": "display_data"
    }
   ],
   "source": [
    "# Plotagem dos histogramas com cores personalizadas\n",
    "plt.figure(figsize=(15, 15))  # Define o tamanho da figura\n",
    "df['preco'].hist(figsize=(10, 10), bins=10, color='purple', edgecolor='white')  # Cria os histogramas com cores personalizadas\n",
    "# Ajustes adicionais\n",
    "# Definir limites do eixo y\n",
    "plt.ylim(0, 12)  # Define o limite inferior e superior do eixo y\n",
    "plt.tight_layout()  # Ajusta o layout para evitar sobreposição de gráficos\n",
    "plt.show()  # Mostra os histogramas"
   ]
  },
  {
   "cell_type": "code",
   "execution_count": null,
   "metadata": {},
   "outputs": [],
   "source": []
  },
  {
   "cell_type": "code",
   "execution_count": null,
   "metadata": {},
   "outputs": [],
   "source": []
  },
  {
   "cell_type": "markdown",
   "metadata": {},
   "source": [
    "# 10 - Modelagem de machine learning"
   ]
  },
  {
   "cell_type": "code",
   "execution_count": null,
   "metadata": {},
   "outputs": [],
   "source": []
  },
  {
   "cell_type": "code",
   "execution_count": null,
   "metadata": {},
   "outputs": [],
   "source": []
  },
  {
   "cell_type": "markdown",
   "metadata": {},
   "source": [
    "# 11 - Deploy do modelo de machine learning"
   ]
  },
  {
   "cell_type": "code",
   "execution_count": null,
   "metadata": {},
   "outputs": [],
   "source": []
  },
  {
   "cell_type": "code",
   "execution_count": null,
   "metadata": {},
   "outputs": [],
   "source": []
  },
  {
   "cell_type": "code",
   "execution_count": null,
   "metadata": {},
   "outputs": [],
   "source": []
  },
  {
   "cell_type": "markdown",
   "metadata": {},
   "source": []
  },
  {
   "cell_type": "markdown",
   "metadata": {},
   "source": [
    "## CONTINUAR A PARTIR DAQUI"
   ]
  },
  {
   "cell_type": "code",
   "execution_count": null,
   "metadata": {},
   "outputs": [],
   "source": [
    "df5.columns\n"
   ]
  },
  {
   "cell_type": "code",
   "execution_count": null,
   "metadata": {},
   "outputs": [],
   "source": [
    "df6 = df5.copy()"
   ]
  },
  {
   "cell_type": "code",
   "execution_count": null,
   "metadata": {},
   "outputs": [],
   "source": [
    "# para fazermos a filtragem somente daqueles personagens que temos todos os dados, faremos uma filtragem\n",
    "# Filtrando os valores das colunas\n",
    "for column in df6.columns:\n",
    "    df6 = df6[~df6[column].astype(str).str.contains('desconhecido')]"
   ]
  },
  {
   "cell_type": "code",
   "execution_count": null,
   "metadata": {},
   "outputs": [],
   "source": [
    "df6.sample(5)"
   ]
  },
  {
   "cell_type": "code",
   "execution_count": null,
   "metadata": {},
   "outputs": [],
   "source": [
    "df6['Ano_de_nascimento'].sample(5)"
   ]
  },
  {
   "cell_type": "code",
   "execution_count": null,
   "metadata": {},
   "outputs": [],
   "source": [
    "# Verificando se há algum valor 'desconhecido'\n",
    "tem_desconhecido = df6.applymap(lambda x: 'desconhecido' in str(x)).any().any()\n",
    "tem_desconhecido"
   ]
  },
  {
   "cell_type": "code",
   "execution_count": null,
   "metadata": {},
   "outputs": [],
   "source": [
    "# agora na coluna Altura vamos tirar o 'm' e na coluna Peso vamos tirar o 'k' ou 'kg'\n",
    "df6['Altura'] = df6['Altura'].str.replace('m', '')\n",
    "df6['Peso'] = df6['Peso'].str.replace('k', '')\n",
    "df6['Peso'] = df6['Peso'].str.replace('kg', '')\n",
    "df6['Peso'] = df6['Peso'].str.replace('g', '')"
   ]
  },
  {
   "cell_type": "code",
   "execution_count": null,
   "metadata": {},
   "outputs": [],
   "source": [
    "df6.shape"
   ]
  },
  {
   "cell_type": "code",
   "execution_count": null,
   "metadata": {},
   "outputs": [],
   "source": [
    "df6['Altura'].unique()"
   ]
  },
  {
   "cell_type": "code",
   "execution_count": null,
   "metadata": {},
   "outputs": [],
   "source": [
    "df6['Peso'].unique()"
   ]
  },
  {
   "cell_type": "code",
   "execution_count": null,
   "metadata": {},
   "outputs": [],
   "source": [
    "# O python reconhece o . como separador de números. Vamos ajustar as colunas Altura e Peso\n",
    "df6['Altura'] = df6['Altura'].str.replace(',', '.').astype(float)\n",
    "df6['Peso'] = df6['Peso'].str.replace(',', '.').astype(float)"
   ]
  },
  {
   "cell_type": "code",
   "execution_count": null,
   "metadata": {},
   "outputs": [],
   "source": [
    "# vamos converter o tipo da coluna ano\n",
    "df6['Ano_de_nascimento'] = pd.to_datetime(df6['Ano_de_nascimento'], format='%Y')"
   ]
  },
  {
   "cell_type": "code",
   "execution_count": null,
   "metadata": {},
   "outputs": [],
   "source": [
    "df6.info()"
   ]
  },
  {
   "cell_type": "markdown",
   "metadata": {},
   "source": [
    "### Exploração das variáveis numéricas"
   ]
  },
  {
   "cell_type": "code",
   "execution_count": null,
   "metadata": {},
   "outputs": [],
   "source": [
    "df6.describe()"
   ]
  },
  {
   "cell_type": "code",
   "execution_count": null,
   "metadata": {},
   "outputs": [],
   "source": [
    "# Plot \n",
    "df6.hist(figsize = (15,15), bins = 10) \n",
    "plt.show()"
   ]
  },
  {
   "cell_type": "code",
   "execution_count": null,
   "metadata": {},
   "outputs": [],
   "source": [
    "# Plotagem dos histogramas com cores personalizadas\n",
    "plt.figure(figsize=(15, 15))  # Define o tamanho da figura\n",
    "df6.hist(figsize=(15, 15), bins=8, color='saddlebrown', edgecolor='white')  # Cria os histogramas com cores personalizadas\n",
    "# Ajustes adicionais\n",
    "plt.tight_layout()  # Ajusta o layout para evitar sobreposição de gráficos\n",
    "plt.show()  # Mostra os histogramas"
   ]
  },
  {
   "cell_type": "code",
   "execution_count": null,
   "metadata": {},
   "outputs": [],
   "source": [
    "# Insighs:\n",
    "# maioria nasceu entre os anos 1960 e 1970\n",
    "# maioria com altura acima de 1,75m \n",
    "# maioria com peso entre 60 e 90kg"
   ]
  },
  {
   "cell_type": "code",
   "execution_count": null,
   "metadata": {},
   "outputs": [],
   "source": [
    "# Plotagem do gráfico\n",
    "plt.figure(figsize=(8, 6))  # Define o tamanho da figura (opcional)\n",
    "\n",
    "plt.scatter(df6['Altura'], df6['Peso'], color='blue', marker='o', alpha=0.5)  # Cria o gráfico de dispersão\n",
    "plt.title('Relação entre Peso e Altura')  # Adiciona o título do gráfico\n",
    "plt.xlabel('Altura (cm)')  # Adiciona o rótulo do eixo x\n",
    "plt.ylabel('Peso (kg)')  # Adiciona o rótulo do eixo y\n",
    "plt.grid(True)  # Adiciona grades de fundo (opcional)\n",
    "\n",
    "plt.show()  # Mostra o gráfico"
   ]
  },
  {
   "cell_type": "code",
   "execution_count": null,
   "metadata": {},
   "outputs": [],
   "source": [
    "# Em geral, quanto maior a altura, maior o peso do personagem."
   ]
  },
  {
   "cell_type": "code",
   "execution_count": null,
   "metadata": {},
   "outputs": [],
   "source": [
    "# Correlação (tabela)\n",
    "df6.corr()"
   ]
  },
  {
   "cell_type": "code",
   "execution_count": null,
   "metadata": {},
   "outputs": [],
   "source": [
    "# Existe uma alta correlação positiva entre Altura e Peso conforme já havíamos visto no gráfico."
   ]
  },
  {
   "cell_type": "markdown",
   "metadata": {},
   "source": [
    "### Exploração das variáveis categóricas"
   ]
  },
  {
   "cell_type": "code",
   "execution_count": null,
   "metadata": {},
   "outputs": [],
   "source": [
    "# Contando as categorias\n",
    "contagem = df6['Tipo_sanguíneo'].value_counts()\n",
    "\n",
    "# Exibindo a contagem\n",
    "contagem"
   ]
  },
  {
   "cell_type": "code",
   "execution_count": null,
   "metadata": {},
   "outputs": [],
   "source": [
    "quantidade_de_tipo_sangue = df6['Tipo_sanguíneo'].nunique()\n",
    "print(\"Quantidade de tipos sanguíneos:\", quantidade_de_tipo_sangue)"
   ]
  },
  {
   "cell_type": "code",
   "execution_count": null,
   "metadata": {},
   "outputs": [],
   "source": [
    "# Plotagem do gráfico de barras\n",
    "plt.figure(figsize=(8, 6))  # Define o tamanho da figura (opcional)\n",
    "\n",
    "contagem.plot(kind='bar', color='darkviolet')  # Cria o gráfico de barras\n",
    "plt.title('Contagem de Tipos Sanguíneos')  # Adiciona o título do gráfico\n",
    "plt.xlabel('Tipo Sanguíneo')  # Adiciona o rótulo do eixo x\n",
    "plt.ylabel('Contagem')  # Adiciona o rótulo do eixo y\n",
    "\n",
    "plt.show()  # Mostra o gráfico"
   ]
  },
  {
   "cell_type": "code",
   "execution_count": null,
   "metadata": {},
   "outputs": [],
   "source": [
    "# mostrando de forma ordenada\n",
    "ax = sns.countplot(data=df6, x='Tipo_sanguíneo', order=df6['Tipo_sanguíneo'].value_counts().index)\n",
    "ax.set_xticklabels(ax.get_xticklabels(), rotation=45, ha='right')\n",
    "plt.title('Contagem de Tipos Sanguíneos')\n",
    "plt.show()"
   ]
  },
  {
   "cell_type": "code",
   "execution_count": null,
   "metadata": {},
   "outputs": [],
   "source": [
    "# maioria dos personagens tem sangue A ou O"
   ]
  },
  {
   "cell_type": "code",
   "execution_count": null,
   "metadata": {},
   "outputs": [],
   "source": [
    "# Contando as categorias\n",
    "contagem = df6['Aparicoes'].value_counts()\n",
    "\n",
    "# Exibindo a contagem\n",
    "contagem"
   ]
  },
  {
   "cell_type": "code",
   "execution_count": null,
   "metadata": {},
   "outputs": [],
   "source": [
    "quantidade_de_aparicoes = df6['Aparicoes'].nunique()\n",
    "print(\"Quantidade de aparições:\", quantidade_de_aparicoes)"
   ]
  },
  {
   "cell_type": "code",
   "execution_count": null,
   "metadata": {},
   "outputs": [],
   "source": [
    "# Plotagem do gráfico de barras\n",
    "plt.figure(figsize=(8, 6))  # Define o tamanho da figura (opcional)\n",
    "\n",
    "contagem.plot(kind='bar', color='gold')  # Cria o gráfico de barras\n",
    "plt.title('Contagem de Aparições')  # Adiciona o título do gráfico\n",
    "plt.show()  # Mostra o gráfico"
   ]
  },
  {
   "cell_type": "code",
   "execution_count": null,
   "metadata": {},
   "outputs": [],
   "source": [
    "# os personagens são mencionados de forma diferente títulos das séries"
   ]
  },
  {
   "cell_type": "markdown",
   "metadata": {},
   "source": [
    "### Verificando a variável Ano_de_nascimento"
   ]
  },
  {
   "cell_type": "code",
   "execution_count": null,
   "metadata": {},
   "outputs": [],
   "source": [
    "# verificando valores únicos\n",
    "print(df6['Ano_de_nascimento'].unique())"
   ]
  },
  {
   "cell_type": "code",
   "execution_count": null,
   "metadata": {},
   "outputs": [],
   "source": [
    "df6['Ano_de_nascimento'] = pd.to_datetime(df6['Ano_de_nascimento']).dt.year"
   ]
  },
  {
   "cell_type": "code",
   "execution_count": null,
   "metadata": {},
   "outputs": [],
   "source": [
    "# Contando a frequência de cada ano\n",
    "contagem_anos = df6['Ano_de_nascimento'].value_counts()\n",
    "contagem_anos"
   ]
  },
  {
   "cell_type": "code",
   "execution_count": null,
   "metadata": {},
   "outputs": [],
   "source": [
    "# Plotagem do gráfico de barras\n",
    "plt.figure(figsize=(10, 6))  # Define o tamanho da figura (opcional)\n",
    "contagem_anos.plot(kind='bar', color='darkkhaki')  # Cria o gráfico de barras\n",
    "plt.title('Contagem de personagens nascidos por Ano')  # Adiciona o título do gráfico\n",
    "#plt.xlabel('Ano')  # Adiciona o rótulo do eixo x\n",
    "#plt.ylabel('Contagem')  # Adiciona o rótulo do eixo y\n",
    "plt.show()  # Mostra o gráfico"
   ]
  },
  {
   "cell_type": "code",
   "execution_count": null,
   "metadata": {},
   "outputs": [],
   "source": [
    "# O ano que teve mais nascimentos dos personagens foi em 1972."
   ]
  },
  {
   "cell_type": "markdown",
   "metadata": {},
   "source": [
    "# Fim"
   ]
  }
 ],
 "metadata": {
  "kernelspec": {
   "display_name": "Python 3 (ipykernel)",
   "language": "python",
   "name": "python3"
  },
  "language_info": {
   "codemirror_mode": {
    "name": "ipython",
    "version": 3
   },
   "file_extension": ".py",
   "mimetype": "text/x-python",
   "name": "python",
   "nbconvert_exporter": "python",
   "pygments_lexer": "ipython3",
   "version": "3.12.4"
  }
 },
 "nbformat": 4,
 "nbformat_minor": 4
}
